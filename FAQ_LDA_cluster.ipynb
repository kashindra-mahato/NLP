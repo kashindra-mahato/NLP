{
  "nbformat": 4,
  "nbformat_minor": 0,
  "metadata": {
    "colab": {
      "provenance": [],
      "authorship_tag": "ABX9TyNmDBBMSOyMBuy1R81FE2jX",
      "include_colab_link": true
    },
    "kernelspec": {
      "name": "python3",
      "display_name": "Python 3"
    },
    "language_info": {
      "name": "python"
    }
  },
  "cells": [
    {
      "cell_type": "markdown",
      "metadata": {
        "id": "view-in-github",
        "colab_type": "text"
      },
      "source": [
        "<a href=\"https://colab.research.google.com/github/kashindra-mahato/NLP/blob/main/FAQ_LDA_cluster.ipynb\" target=\"_parent\"><img src=\"https://colab.research.google.com/assets/colab-badge.svg\" alt=\"Open In Colab\"/></a>"
      ]
    },
    {
      "cell_type": "code",
      "execution_count": null,
      "metadata": {
        "id": "ZVCEprotLjPk",
        "colab": {
          "base_uri": "https://localhost:8080/"
        },
        "outputId": "72c7b104-0fff-4d4a-cbd1-aba17994d224"
      },
      "outputs": [
        {
          "output_type": "stream",
          "name": "stdout",
          "text": [
            "Mounted at /content/drive\n"
          ]
        }
      ],
      "source": [
        "from google.colab import drive\n",
        "drive.mount('/content/drive')"
      ]
    },
    {
      "cell_type": "code",
      "source": [
        "import pandas as pd\n",
        "path = '/'\n",
        "df = pd.read_excel(path + 'data/combined.xlsx')\n"
      ],
      "metadata": {
        "id": "OUwRXHwC0UO_"
      },
      "execution_count": null,
      "outputs": []
    },
    {
      "cell_type": "code",
      "source": [
        "df['questions'].head()"
      ],
      "metadata": {
        "id": "XJySEogs0eAC"
      },
      "execution_count": null,
      "outputs": []
    },
    {
      "cell_type": "code",
      "source": [
        "data = df.copy()"
      ],
      "metadata": {
        "id": "R1vRxeG0-8l4"
      },
      "execution_count": null,
      "outputs": []
    },
    {
      "cell_type": "code",
      "source": [
        "# remove numbers\n",
        "data['questions'] = data['questions'].str.lower()\n",
        "# remove numbers\n",
        "data['questions'] = data['questions'].str.replace('\\d+', '')\n",
        "# remove anything that is not word or sentence\n",
        "data['questions'] = data['questions'].str.replace(r'[^\\w\\s]+', '')\n",
        "data"
      ],
      "metadata": {
        "id": "5h8ETHTP96T1"
      },
      "execution_count": null,
      "outputs": []
    },
    {
      "cell_type": "code",
      "source": [
        "from sklearn.feature_extraction.text import TfidfVectorizer\n",
        "tfidf = TfidfVectorizer(max_df=0.95, min_df=2, stop_words='english')\n",
        "dtm = tfidf.fit_transform(data['questions'])"
      ],
      "metadata": {
        "id": "Uktk8ZuP1XBU"
      },
      "execution_count": null,
      "outputs": []
    },
    {
      "cell_type": "code",
      "source": [
        "from sklearn.decomposition import NMF\n",
        "nmf_model = NMF(n_components=10, random_state=42)\n",
        "\n",
        "nmf_model.fit(dtm)\n",
        "tfidf.get_feature_names()[10]"
      ],
      "metadata": {
        "colab": {
          "base_uri": "https://localhost:8080/",
          "height": 129
        },
        "id": "SMOvB1jR2CGS",
        "outputId": "2a7d0de6-7216-447b-a774-81d8951ae5df"
      },
      "execution_count": null,
      "outputs": [
        {
          "output_type": "stream",
          "name": "stderr",
          "text": [
            "/usr/local/lib/python3.8/dist-packages/sklearn/decomposition/_nmf.py:289: FutureWarning: The 'init' value, when 'init=None' and n_components is less than n_samples and n_features, will be changed from 'nndsvd' to 'nndsvda' in 1.1 (renaming of 0.26).\n",
            "  warnings.warn(\n",
            "/usr/local/lib/python3.8/dist-packages/sklearn/utils/deprecation.py:87: FutureWarning: Function get_feature_names is deprecated; get_feature_names is deprecated in 1.0 and will be removed in 1.2. Please use get_feature_names_out instead.\n",
            "  warnings.warn(msg, category=FutureWarning)\n"
          ]
        },
        {
          "output_type": "execute_result",
          "data": {
            "text/plain": [
              "'apply'"
            ],
            "application/vnd.google.colaboratory.intrinsic+json": {
              "type": "string"
            }
          },
          "metadata": {},
          "execution_count": 8
        }
      ]
    },
    {
      "cell_type": "code",
      "source": [
        "for index ,topic in enumerate(nmf_model.components_):\n",
        "    print(f\"#Topic{index}\")\n",
        "    print([tfidf.get_feature_names()[i]for i in topic.argsort()[-15:]])\n",
        "    print('\\n')\n",
        "    print('\\n')"
      ],
      "metadata": {
        "id": "4Ib6Xxtd2hFW"
      },
      "execution_count": null,
      "outputs": []
    },
    {
      "cell_type": "code",
      "source": [
        "topic_results=nmf_model.transform(dtm)\n",
        "topic_results[0].argmax()\n",
        "df['Topic']=topic_results.argmax(axis=1)\n",
        "topic_group = df.groupby(['Topic'])\n",
        "topic_0 = (topic_group.get_group(0)['questions']).to_list()\n",
        "topic_1 = (topic_group.get_group(1)['questions']).to_list()\n",
        "topic_2= (topic_group.get_group(2)['questions']).to_list()"
      ],
      "metadata": {
        "id": "cwtIICJm2lH5"
      },
      "execution_count": null,
      "outputs": []
    },
    {
      "cell_type": "code",
      "source": [
        "print(topic_1)"
      ],
      "metadata": {
        "id": "XFl4ve082wHC"
      },
      "execution_count": null,
      "outputs": []
    },
    {
      "cell_type": "code",
      "source": [
        "from sklearn.decomposition import LatentDirichletAllocation\n",
        "lda_model = LatentDirichletAllocation(n_components=5, random_state=42)\n",
        "\n",
        "lda_model.fit(dtm)\n",
        "# tfidf.get_feature_names()[10]"
      ],
      "metadata": {
        "colab": {
          "base_uri": "https://localhost:8080/"
        },
        "id": "8xo50dHn22a7",
        "outputId": "d73b90e5-3028-40d1-e249-f9a6fa13c2e5"
      },
      "execution_count": null,
      "outputs": [
        {
          "output_type": "execute_result",
          "data": {
            "text/plain": [
              "LatentDirichletAllocation(n_components=5, random_state=42)"
            ]
          },
          "metadata": {},
          "execution_count": 12
        }
      ]
    },
    {
      "cell_type": "code",
      "source": [
        "for index ,topic in enumerate(lda_model.components_):\n",
        "    print(f\"#Topic{index}\")\n",
        "    print([tfidf.get_feature_names()[i]for i in topic.argsort()[-15:]])\n",
        "    print('\\n')\n",
        "    print('\\n')"
      ],
      "metadata": {
        "id": "m87F_V8d3XrP"
      },
      "execution_count": null,
      "outputs": []
    },
    {
      "cell_type": "code",
      "source": [
        "topic_results=lda_model.transform(dtm)\n",
        "topic_results[0].argmax()\n",
        "df['Topic']=topic_results.argmax(axis=1)\n",
        "topic_group = df.groupby(['Topic'])\n",
        "topic_0 = (topic_group.get_group(0)['questions']).to_list()\n",
        "topic_1 = (topic_group.get_group(1)['questions']).to_list()\n",
        "topic_2= (topic_group.get_group(2)['questions']).to_list()"
      ],
      "metadata": {
        "id": "t85q0LAb3so-"
      },
      "execution_count": null,
      "outputs": []
    },
    {
      "cell_type": "code",
      "source": [
        "print(topic_0)"
      ],
      "metadata": {
        "id": "4qyGW1OY4PB4"
      },
      "execution_count": null,
      "outputs": []
    },
    {
      "cell_type": "code",
      "source": [
        "# [(pd.DataFrame((topic_group.get_group(i)['text']).to_list())).to_csv(path+'topic_'+str(i)+'.csv') for i in range(len(topic_group))]"
      ],
      "metadata": {
        "id": "-tjKVquc5UA5"
      },
      "execution_count": null,
      "outputs": []
    },
    {
      "cell_type": "code",
      "source": [
        "len(topic_group)"
      ],
      "metadata": {
        "colab": {
          "base_uri": "https://localhost:8080/"
        },
        "id": "Qv-nzOrK6kqd",
        "outputId": "e103225f-7989-4bc9-d5ba-519088dcc47f"
      },
      "execution_count": null,
      "outputs": [
        {
          "output_type": "execute_result",
          "data": {
            "text/plain": [
              "5"
            ]
          },
          "metadata": {},
          "execution_count": 17
        }
      ]
    },
    {
      "cell_type": "code",
      "source": [
        "topic_list = [(topic_group.get_group(i)['questions']).to_list() for i in range(len(topic_group))]"
      ],
      "metadata": {
        "id": "DN-Ubwzw69Vg"
      },
      "execution_count": null,
      "outputs": []
    },
    {
      "cell_type": "code",
      "source": [
        "pd.DataFrame([tfidf.get_feature_names_out()[i]for i in lda_model.components_[0].argsort()[-15:]]).to_excel(\"/.xlsx\")\n"
      ],
      "metadata": {
        "id": "R_YRIzli-E0J"
      },
      "execution_count": null,
      "outputs": []
    },
    {
      "cell_type": "code",
      "source": [
        "topic_l_df = pd.DataFrame()\n",
        "for index ,topic in enumerate(lda_model.components_):\n",
        "    topic_l = pd.DataFrame([tfidf.get_feature_names_out()[i]for i in topic.argsort()[-15:]])\n",
        "    topic_l_df = pd.concat([topic_l_df, topic_l], axis=1)\n",
        "\n",
        "\n"
      ],
      "metadata": {
        "id": "3DhklWcLEAvz"
      },
      "execution_count": null,
      "outputs": []
    },
    {
      "cell_type": "code",
      "source": [
        "topic_l_df.to_excel(\"/.xlsx\")\n"
      ],
      "metadata": {
        "id": "v6hYszf0HsBK"
      },
      "execution_count": null,
      "outputs": []
    },
    {
      "cell_type": "code",
      "source": [
        "topic_list[0]"
      ],
      "metadata": {
        "id": "eJvw-wxe-A_N"
      },
      "execution_count": null,
      "outputs": []
    },
    {
      "cell_type": "code",
      "source": [
        "topic_list_df = [pd.DataFrame(topic_list[i]) for i in range(len(topic_list))]"
      ],
      "metadata": {
        "id": "t9l1kpzU7ZOP"
      },
      "execution_count": null,
      "outputs": []
    },
    {
      "cell_type": "code",
      "source": [
        "topic_list_df[0].head()"
      ],
      "metadata": {
        "id": "rsIrDvgi7ktu"
      },
      "execution_count": null,
      "outputs": []
    },
    {
      "cell_type": "code",
      "source": [
        "[topic_list_df[i].to_csv(\"/\"+\"topic_\"+str(i)+\".csv\") for i in range(len(topic_list_df))]"
      ],
      "metadata": {
        "id": "gOnlZDIQ8Eo6"
      },
      "execution_count": null,
      "outputs": []
    },
    {
      "cell_type": "code",
      "source": [],
      "metadata": {
        "id": "1K_ioctv8TyA"
      },
      "execution_count": null,
      "outputs": []
    }
  ]
}