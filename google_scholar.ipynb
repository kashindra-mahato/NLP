{
  "nbformat": 4,
  "nbformat_minor": 0,
  "metadata": {
    "colab": {
      "provenance": [],
      "authorship_tag": "ABX9TyNpw76huQArwSDuF43zfNhl",
      "include_colab_link": true
    },
    "kernelspec": {
      "name": "python3",
      "display_name": "Python 3"
    },
    "language_info": {
      "name": "python"
    }
  },
  "cells": [
    {
      "cell_type": "markdown",
      "metadata": {
        "id": "view-in-github",
        "colab_type": "text"
      },
      "source": [
        "<a href=\"https://colab.research.google.com/github/kashindra-mahato/NLP/blob/main/google_scholar.ipynb\" target=\"_parent\"><img src=\"https://colab.research.google.com/assets/colab-badge.svg\" alt=\"Open In Colab\"/></a>"
      ]
    },
    {
      "cell_type": "code",
      "source": [
        "!pip install -q requests_html"
      ],
      "metadata": {
        "colab": {
          "base_uri": "https://localhost:8080/"
        },
        "id": "rhp48lahGDqU",
        "outputId": "38a13937-8540-4c4f-fcd8-4deb827a18c8"
      },
      "execution_count": null,
      "outputs": [
        {
          "output_type": "stream",
          "name": "stdout",
          "text": [
            "\u001b[2K     \u001b[90m━━━━━━━━━━━━━━━━━━━━━━━━━━━━━━━━━━━━━━━━\u001b[0m \u001b[32m83.4/83.4 kB\u001b[0m \u001b[31m10.3 MB/s\u001b[0m eta \u001b[36m0:00:00\u001b[0m\n",
            "\u001b[2K     \u001b[90m━━━━━━━━━━━━━━━━━━━━━━━━━━━━━━━━━━━━━━━━\u001b[0m \u001b[32m143.8/143.8 kB\u001b[0m \u001b[31m15.6 MB/s\u001b[0m eta \u001b[36m0:00:00\u001b[0m\n",
            "\u001b[2K     \u001b[90m━━━━━━━━━━━━━━━━━━━━━━━━━━━━━━━━━━━━━━━━\u001b[0m \u001b[32m106.8/106.8 kB\u001b[0m \u001b[31m12.6 MB/s\u001b[0m eta \u001b[36m0:00:00\u001b[0m\n",
            "\u001b[?25h"
          ]
        }
      ]
    },
    {
      "cell_type": "code",
      "execution_count": null,
      "metadata": {
        "id": "-P_ImONnFkON"
      },
      "outputs": [],
      "source": [
        "from time import sleep\n",
        "import pandas as pd\n",
        "from requests_html import HTMLSession"
      ]
    },
    {
      "cell_type": "code",
      "source": [
        "session = HTMLSession()"
      ],
      "metadata": {
        "id": "tfdavgGQF57a"
      },
      "execution_count": null,
      "outputs": []
    },
    {
      "cell_type": "code",
      "source": [
        "start_year = 2000\n",
        "end_year = 2024\n",
        "url = f'https://scholar.google.com/scholar?lr=lang_zh-TW|lang_en|lang_de|lang_es&q=machine+learning&hl=en&as_sdt=0,5&as_ylo={start_year}&as_yhi={end_year}'"
      ],
      "metadata": {
        "id": "dcb6N3LiGSZ6"
      },
      "execution_count": null,
      "outputs": []
    },
    {
      "cell_type": "code",
      "source": [
        "response = session.get(url)\n",
        "response"
      ],
      "metadata": {
        "colab": {
          "base_uri": "https://localhost:8080/"
        },
        "id": "_IgnEAMoGKRY",
        "outputId": "c9a87cee-8a40-4c86-f8dd-64394f120c65"
      },
      "execution_count": null,
      "outputs": [
        {
          "output_type": "execute_result",
          "data": {
            "text/plain": [
              "<Response [200]>"
            ]
          },
          "metadata": {},
          "execution_count": 9
        }
      ]
    },
    {
      "cell_type": "code",
      "source": [
        "results = response.html.find('div.gs_r.gs_or.gs_scl')"
      ],
      "metadata": {
        "id": "ZJKYH-fHLfI9"
      },
      "execution_count": null,
      "outputs": []
    },
    {
      "cell_type": "code",
      "source": [
        "results, len(results)"
      ],
      "metadata": {
        "colab": {
          "base_uri": "https://localhost:8080/"
        },
        "id": "R7dzaIepLjgy",
        "outputId": "0f6657b1-dfc0-447f-d833-5fe6d59e279e"
      },
      "execution_count": null,
      "outputs": [
        {
          "output_type": "execute_result",
          "data": {
            "text/plain": [
              "([<Element 'div' class=('gs_r', 'gs_or', 'gs_scl') data-cid='pdcI9r5sCJcJ' data-did='pdcI9r5sCJcJ' data-lid='' data-aid='pdcI9r5sCJcJ' data-rp='0'>,\n",
              "  <Element 'div' class=('gs_r', 'gs_or', 'gs_scl') data-cid='eucrqVB_bisJ' data-did='eucrqVB_bisJ' data-lid='' data-aid='eucrqVB_bisJ' data-rp='1'>,\n",
              "  <Element 'div' class=('gs_r', 'gs_or', 'gs_scl') data-cid='3IzyYvVQwr4J' data-did='3IzyYvVQwr4J' data-lid='' data-aid='3IzyYvVQwr4J' data-rp='2'>,\n",
              "  <Element 'div' class=('gs_r', 'gs_or', 'gs_scl') data-cid='IufbymTDBukJ' data-did='IufbymTDBukJ' data-lid='' data-aid='IufbymTDBukJ' data-rp='3'>,\n",
              "  <Element 'div' class=('gs_r', 'gs_or', 'gs_scl') data-cid='zsRGU1-JC9sJ' data-did='zsRGU1-JC9sJ' data-lid='' data-aid='zsRGU1-JC9sJ' data-rp='4'>,\n",
              "  <Element 'div' class=('gs_r', 'gs_or', 'gs_scl') data-cid='nhPaWHXTIagJ' data-did='nhPaWHXTIagJ' data-lid='' data-aid='nhPaWHXTIagJ' data-rp='5'>,\n",
              "  <Element 'div' class=('gs_r', 'gs_or', 'gs_scl') data-cid='IVyR3mXITrQJ' data-did='IVyR3mXITrQJ' data-lid='' data-aid='IVyR3mXITrQJ' data-rp='6'>,\n",
              "  <Element 'div' class=('gs_r', 'gs_or', 'gs_scl') data-cid='GBzGIpYNxj4J' data-did='GBzGIpYNxj4J' data-lid='' data-aid='GBzGIpYNxj4J' data-rp='7'>,\n",
              "  <Element 'div' class=('gs_r', 'gs_or', 'gs_scl') data-cid='sR_ChBn63tIJ' data-did='sR_ChBn63tIJ' data-lid='' data-aid='sR_ChBn63tIJ' data-rp='8'>,\n",
              "  <Element 'div' class=('gs_r', 'gs_or', 'gs_scl') data-cid='EQ8shYj8Ai8J' data-did='EQ8shYj8Ai8J' data-lid='' data-aid='EQ8shYj8Ai8J' data-rp='9'>],\n",
              " 10)"
            ]
          },
          "metadata": {},
          "execution_count": 12
        }
      ]
    },
    {
      "cell_type": "code",
      "source": [
        "sample = results[6]\n",
        "title = sample.find('h3.gs_rt', first=True).text\n",
        "authors = sample.find('div.gs_a', first=True).text\n",
        "source = sample.find('h3.gs_rt a', first=True).attrs['href']\n",
        "paper = sample.find('div.gs_or_ggsm a', first=True).attrs['href']\n",
        "citations = sample.find('div.gs_ri div.gs_fl a')[2].text\n",
        "\n",
        "title, authors, source, paper, citations"
      ],
      "metadata": {
        "colab": {
          "base_uri": "https://localhost:8080/"
        },
        "id": "YKrBgtZnLlyi",
        "outputId": "af0543e5-1d47-4e95-c76e-aa7208c84382"
      },
      "execution_count": null,
      "outputs": [
        {
          "output_type": "execute_result",
          "data": {
            "text/plain": [
              "('[BOOK][B] Foundations of machine learning',\n",
              " 'M Mohri, A Rostamizadeh, A Talwalkar - 2018 - books.google.com',\n",
              " 'https://books.google.com/books?hl=en&lr=lang_zh-TW|lang_en|lang_de|lang_es&id=dWB9DwAAQBAJ&oi=fnd&pg=PR5&dq=machine+learning&ots=AznV0Rv_p3&sig=ePl2iLNX_EoECuqQfXYMwjGd4Vw',\n",
              " 'https://www.academia.edu/download/86186744/lecture_3.pdf',\n",
              " 'Cited by 5908')"
            ]
          },
          "metadata": {},
          "execution_count": 13
        }
      ]
    },
    {
      "cell_type": "code",
      "source": [
        "sample = results[0]\n",
        "title = sample.xpath('.//h3[@class=\"gs_rt\"]/a | .//h3[@class=\"gs_rt\"]/span[2]', first=True).text\n",
        "authors = sample.xpath('.//div[@class=\"gs_a\"]', first=True).text\n",
        "source = sample.xpath('.//h3[@class=\"gs_rt\"]/a/@href', first=True)\n",
        "paper = sample.xpath('.//div[@class=\"gs_or_ggsm\"]/a/@href', first=True)\n",
        "\n",
        "title, authors, source, paper, citations"
      ],
      "metadata": {
        "colab": {
          "base_uri": "https://localhost:8080/"
        },
        "id": "Y3IlmU2ULs7w",
        "outputId": "8e853656-e7c7-4493-b94e-f421e816a662"
      },
      "execution_count": null,
      "outputs": [
        {
          "output_type": "execute_result",
          "data": {
            "text/plain": [
              "('Machine learning: Trends, perspectives, and prospects',\n",
              " 'MI Jordan, TM Mitchell\\xa0- Science, 2015 - science.org',\n",
              " 'https://www.science.org/doi/abs/10.1126/science.aaa8415',\n",
              " 'http://www.cs.cmu.edu/~tom/pubs/Science-ML-2015.pdf',\n",
              " 'Cited by 5908')"
            ]
          },
          "metadata": {},
          "execution_count": 17
        }
      ]
    },
    {
      "cell_type": "code",
      "source": [
        "def search_by_params(params: str) -> list:\n",
        "    \"\"\"Extracts and returns the results from the Google Scholar search.\"\"\"\n",
        "    session = HTMLSession()\n",
        "    all_results = []\n",
        "\n",
        "    for i in range(100):  # The final page number is 100 and each page has 10 results.\n",
        "        response = session.get(f'https://scholar.google.com/scholar?{params}&start={i*10}')\n",
        "        page_results = response.html.find('div.gs_r.gs_or.gs_scl')\n",
        "        if len(page_results) < 10: break\n",
        "        all_results.extend(page_results)\n",
        "        sleep(.5)  # Google blocks requests if too many are sent too quickly.\n",
        "\n",
        "    return all_results"
      ],
      "metadata": {
        "id": "IYn-yheML7Ax"
      },
      "execution_count": null,
      "outputs": []
    },
    {
      "cell_type": "code",
      "source": [
        "%%time\n",
        "raw_results = search_by_params('q=metaverse&as_sdt=0,5&as_ylo=1989&as_yhi=2015')"
      ],
      "metadata": {
        "colab": {
          "base_uri": "https://localhost:8080/"
        },
        "id": "yk5UVcgYOR5X",
        "outputId": "eadad98c-bc70-45f6-f992-923fde6d8c97"
      },
      "execution_count": null,
      "outputs": [
        {
          "output_type": "stream",
          "name": "stdout",
          "text": [
            "CPU times: user 2.6 s, sys: 39 ms, total: 2.64 s\n",
            "Wall time: 27.7 s\n"
          ]
        }
      ]
    },
    {
      "cell_type": "code",
      "source": [
        "def build_query(**kwargs) -> str:\n",
        "    \"\"\"Builds a Google Scholar query based the given arguments.\"\"\"\n",
        "    keywords = f'q={kwargs.get(\"keywords\").replace(\" \", \"+\")}'\n",
        "    year_range = f'as_ylo={kwargs.get(\"start_year\")}&as_yhi={kwargs.get(\"end_year\")}'\n",
        "    languages = f'lr={\"|\".join([f\"lang_{l}\" for l in kwargs.get(\"languages\")])}'\n",
        "    return f'{keywords}&{year_range}&{languages}'"
      ],
      "metadata": {
        "id": "4PebPAYuObVN"
      },
      "execution_count": null,
      "outputs": []
    },
    {
      "cell_type": "code",
      "source": [
        "build_query(keywords='metaverse privacy', start_year=2000, end_year=2024, languages=['en', 'zh-TW'])"
      ],
      "metadata": {
        "colab": {
          "base_uri": "https://localhost:8080/",
          "height": 35
        },
        "id": "RJx8qgJ6Owx4",
        "outputId": "d2e8cb22-f799-419e-f3ae-e4d2b5398a85"
      },
      "execution_count": null,
      "outputs": [
        {
          "output_type": "execute_result",
          "data": {
            "text/plain": [
              "'q=metaverse+privacy&as_ylo=2000&as_yhi=2024&lr=lang_en|lang_zh-TW'"
            ],
            "application/vnd.google.colaboratory.intrinsic+json": {
              "type": "string"
            }
          },
          "metadata": {},
          "execution_count": 24
        }
      ]
    },
    {
      "cell_type": "code",
      "source": [
        "response = session.get('https://scholar.google.com/citations?user=VfYhf2wAAAAJ&hl=en')\n",
        "response"
      ],
      "metadata": {
        "colab": {
          "base_uri": "https://localhost:8080/"
        },
        "id": "u1kbFIGSO9yL",
        "outputId": "00d2aeb7-4fc8-4162-a997-8061b151d893"
      },
      "execution_count": null,
      "outputs": [
        {
          "output_type": "execute_result",
          "data": {
            "text/plain": [
              "<Response [200]>"
            ]
          },
          "metadata": {},
          "execution_count": 25
        }
      ]
    },
    {
      "cell_type": "code",
      "source": [
        "show_more_button = response.html.xpath('.//button[@class=\"gs_btnPD gs_in_ib gs_btn_flat gs_btn_lrge gs_btn_lsu\"]', first=True)\n",
        "show_more_button"
      ],
      "metadata": {
        "colab": {
          "base_uri": "https://localhost:8080/"
        },
        "id": "EWwiZ59dPB9P",
        "outputId": "68649c20-c222-4952-a91a-f18011e48a8a"
      },
      "execution_count": null,
      "outputs": [
        {
          "output_type": "execute_result",
          "data": {
            "text/plain": [
              "<Element 'button' type='button' id='gsc_bpf_more' class=('gs_btnPD', 'gs_in_ib', 'gs_btn_flat', 'gs_btn_lrge', 'gs_btn_lsu')>"
            ]
          },
          "metadata": {},
          "execution_count": 26
        }
      ]
    },
    {
      "cell_type": "code",
      "source": [
        "show_more_button.attrs"
      ],
      "metadata": {
        "colab": {
          "base_uri": "https://localhost:8080/"
        },
        "id": "w_oTeg3gPDx3",
        "outputId": "810203b8-839e-41e4-b268-055bcdebd21e"
      },
      "execution_count": null,
      "outputs": [
        {
          "output_type": "execute_result",
          "data": {
            "text/plain": [
              "{'type': 'button',\n",
              " 'id': 'gsc_bpf_more',\n",
              " 'class': ('gs_btnPD', 'gs_in_ib', 'gs_btn_flat', 'gs_btn_lrge', 'gs_btn_lsu')}"
            ]
          },
          "metadata": {},
          "execution_count": 27
        }
      ]
    },
    {
      "cell_type": "code",
      "source": [
        "articles = response.html.xpath('.//tr[@class=\"gsc_a_tr\"]')\n",
        "articles"
      ],
      "metadata": {
        "colab": {
          "base_uri": "https://localhost:8080/"
        },
        "id": "rJcdItdiPG8J",
        "outputId": "b7290e3c-4748-4b66-d0d1-bebba714b905"
      },
      "execution_count": null,
      "outputs": [
        {
          "output_type": "execute_result",
          "data": {
            "text/plain": [
              "[<Element 'tr' class=('gsc_a_tr',)>,\n",
              " <Element 'tr' class=('gsc_a_tr',)>,\n",
              " <Element 'tr' class=('gsc_a_tr',)>,\n",
              " <Element 'tr' class=('gsc_a_tr',)>,\n",
              " <Element 'tr' class=('gsc_a_tr',)>,\n",
              " <Element 'tr' class=('gsc_a_tr',)>,\n",
              " <Element 'tr' class=('gsc_a_tr',)>,\n",
              " <Element 'tr' class=('gsc_a_tr',)>,\n",
              " <Element 'tr' class=('gsc_a_tr',)>,\n",
              " <Element 'tr' class=('gsc_a_tr',)>,\n",
              " <Element 'tr' class=('gsc_a_tr',)>,\n",
              " <Element 'tr' class=('gsc_a_tr',)>,\n",
              " <Element 'tr' class=('gsc_a_tr',)>,\n",
              " <Element 'tr' class=('gsc_a_tr',)>,\n",
              " <Element 'tr' class=('gsc_a_tr',)>,\n",
              " <Element 'tr' class=('gsc_a_tr',)>,\n",
              " <Element 'tr' class=('gsc_a_tr',)>,\n",
              " <Element 'tr' class=('gsc_a_tr',)>,\n",
              " <Element 'tr' class=('gsc_a_tr',)>,\n",
              " <Element 'tr' class=('gsc_a_tr',)>]"
            ]
          },
          "metadata": {},
          "execution_count": 28
        }
      ]
    },
    {
      "cell_type": "code",
      "source": [
        "sample = articles[0]\n",
        "title = sample.xpath('.//a[@class=\"gsc_a_at\"]/text()', first=True)\n",
        "authors = sample.xpath('.//div[@class=\"gs_gray\"][1]/text()', first=True)\n",
        "journal = sample.xpath('.//div[@class=\"gs_gray\"][2]/text()', first=True)\n",
        "publish_year = sample.xpath('.//a[@class=\"gsc_a_ac gs_ibl\"]/text()', first=True)\n",
        "citations_no = sample.xpath('.//span[@class=\"gsc_a_h gsc_a_hc gs_ibl\"]/text()', first=True)\n",
        "\n",
        "title, authors, journal, publish_year, citations_no"
      ],
      "metadata": {
        "colab": {
          "base_uri": "https://localhost:8080/"
        },
        "id": "2UtBLTqOPI8l",
        "outputId": "c11dd0be-0fe5-4d69-a441-5601f645b9ef"
      },
      "execution_count": null,
      "outputs": [
        {
          "output_type": "execute_result",
          "data": {
            "text/plain": [
              "('Keras', 'F Chollet', 'keras.io 10', '19951', '2015')"
            ]
          },
          "metadata": {},
          "execution_count": 29
        }
      ]
    },
    {
      "cell_type": "code",
      "source": [
        "sample = articles[4]\n",
        "title = sample.xpath('.//a[@class=\"gsc_a_at\"]/text()', first=True)\n",
        "authors = sample.xpath('.//div[@class=\"gs_gray\"][1]/text()', first=True)\n",
        "journal = sample.xpath('.//div[@class=\"gs_gray\"][2]/text()', first=True)\n",
        "publish_year = sample.xpath('.//a[@class=\"gsc_a_ac gs_ibl\"]/text()', first=True)\n",
        "citations_no = sample.xpath('.//span[@class=\"gsc_a_h gsc_a_hc gs_ibl\"]/text()', first=True)\n",
        "\n",
        "title, authors, journal, publish_year, citations_no"
      ],
      "metadata": {
        "colab": {
          "base_uri": "https://localhost:8080/"
        },
        "id": "WAEg058CPMhU",
        "outputId": "0aa6466d-8693-4fe4-92e6-b1a1206929c3"
      },
      "execution_count": null,
      "outputs": [
        {
          "output_type": "execute_result",
          "data": {
            "text/plain": [
              "('Beyond the imitation game: Quantifying and extrapolating the capabilities of language models',\n",
              " 'A Srivastava, A Rastogi, A Rao, AAM Shoeb, A Abid, A Fisch, AR Brown, ...',\n",
              " 'arXiv preprint arXiv:2206.04615',\n",
              " '529',\n",
              " '2022')"
            ]
          },
          "metadata": {},
          "execution_count": 30
        }
      ]
    },
    {
      "cell_type": "code",
      "source": [
        "articles = []\n",
        "\n",
        "response = session.get('https://scholar.google.com/citations?hl=en&user=L5xeTxkAAAAJ&cstart=800&pagesize=100')\n",
        "articles.extend(response.html.xpath('.//tr[@class=\"gsc_a_tr\"]'))\n",
        "print(response.html.xpath('.//tr[@class=\"gsc_a_tr\"]'))\n",
        "\n",
        "show_more_button = response.html.xpath('.//button[@class=\"gs_btnPD gs_in_ib gs_btn_flat gs_btn_lrge gs_btn_lsu\"]/@disabled', first=True)\n",
        "print('Is show more button disabled?', 'No' if show_more_button is None else 'Yes')"
      ],
      "metadata": {
        "colab": {
          "base_uri": "https://localhost:8080/"
        },
        "id": "tc2LdYI1PQpG",
        "outputId": "fb46126f-72e5-4cc3-8f53-0ee847988ea0"
      },
      "execution_count": null,
      "outputs": [
        {
          "output_type": "stream",
          "name": "stdout",
          "text": [
            "[<Element 'tr' class=('gsc_a_tr',)>, <Element 'tr' class=('gsc_a_tr',)>, <Element 'tr' class=('gsc_a_tr',)>, <Element 'tr' class=('gsc_a_tr',)>, <Element 'tr' class=('gsc_a_tr',)>, <Element 'tr' class=('gsc_a_tr',)>, <Element 'tr' class=('gsc_a_tr',)>, <Element 'tr' class=('gsc_a_tr',)>, <Element 'tr' class=('gsc_a_tr',)>, <Element 'tr' class=('gsc_a_tr',)>, <Element 'tr' class=('gsc_a_tr',)>, <Element 'tr' class=('gsc_a_tr',)>, <Element 'tr' class=('gsc_a_tr',)>, <Element 'tr' class=('gsc_a_tr',)>, <Element 'tr' class=('gsc_a_tr',)>, <Element 'tr' class=('gsc_a_tr',)>, <Element 'tr' class=('gsc_a_tr',)>, <Element 'tr' class=('gsc_a_tr',)>, <Element 'tr' class=('gsc_a_tr',)>, <Element 'tr' class=('gsc_a_tr',)>, <Element 'tr' class=('gsc_a_tr',)>, <Element 'tr' class=('gsc_a_tr',)>, <Element 'tr' class=('gsc_a_tr',)>, <Element 'tr' class=('gsc_a_tr',)>, <Element 'tr' class=('gsc_a_tr',)>, <Element 'tr' class=('gsc_a_tr',)>, <Element 'tr' class=('gsc_a_tr',)>, <Element 'tr' class=('gsc_a_tr',)>, <Element 'tr' class=('gsc_a_tr',)>, <Element 'tr' class=('gsc_a_tr',)>, <Element 'tr' class=('gsc_a_tr',)>, <Element 'tr' class=('gsc_a_tr',)>, <Element 'tr' class=('gsc_a_tr',)>, <Element 'tr' class=('gsc_a_tr',)>, <Element 'tr' class=('gsc_a_tr',)>, <Element 'tr' class=('gsc_a_tr',)>, <Element 'tr' class=('gsc_a_tr',)>, <Element 'tr' class=('gsc_a_tr',)>, <Element 'tr' class=('gsc_a_tr',)>, <Element 'tr' class=('gsc_a_tr',)>, <Element 'tr' class=('gsc_a_tr',)>, <Element 'tr' class=('gsc_a_tr',)>, <Element 'tr' class=('gsc_a_tr',)>, <Element 'tr' class=('gsc_a_tr',)>, <Element 'tr' class=('gsc_a_tr',)>, <Element 'tr' class=('gsc_a_tr',)>, <Element 'tr' class=('gsc_a_tr',)>, <Element 'tr' class=('gsc_a_tr',)>, <Element 'tr' class=('gsc_a_tr',)>, <Element 'tr' class=('gsc_a_tr',)>, <Element 'tr' class=('gsc_a_tr',)>, <Element 'tr' class=('gsc_a_tr',)>, <Element 'tr' class=('gsc_a_tr',)>, <Element 'tr' class=('gsc_a_tr',)>, <Element 'tr' class=('gsc_a_tr',)>, <Element 'tr' class=('gsc_a_tr',)>, <Element 'tr' class=('gsc_a_tr',)>, <Element 'tr' class=('gsc_a_tr',)>, <Element 'tr' class=('gsc_a_tr',)>, <Element 'tr' class=('gsc_a_tr',)>, <Element 'tr' class=('gsc_a_tr',)>, <Element 'tr' class=('gsc_a_tr',)>, <Element 'tr' class=('gsc_a_tr',)>, <Element 'tr' class=('gsc_a_tr',)>, <Element 'tr' class=('gsc_a_tr',)>, <Element 'tr' class=('gsc_a_tr',)>, <Element 'tr' class=('gsc_a_tr',)>, <Element 'tr' class=('gsc_a_tr',)>, <Element 'tr' class=('gsc_a_tr',)>, <Element 'tr' class=('gsc_a_tr',)>, <Element 'tr' class=('gsc_a_tr',)>, <Element 'tr' class=('gsc_a_tr',)>, <Element 'tr' class=('gsc_a_tr',)>, <Element 'tr' class=('gsc_a_tr',)>, <Element 'tr' class=('gsc_a_tr',)>, <Element 'tr' class=('gsc_a_tr',)>, <Element 'tr' class=('gsc_a_tr',)>, <Element 'tr' class=('gsc_a_tr',)>, <Element 'tr' class=('gsc_a_tr',)>, <Element 'tr' class=('gsc_a_tr',)>, <Element 'tr' class=('gsc_a_tr',)>, <Element 'tr' class=('gsc_a_tr',)>, <Element 'tr' class=('gsc_a_tr',)>, <Element 'tr' class=('gsc_a_tr',)>, <Element 'tr' class=('gsc_a_tr',)>, <Element 'tr' class=('gsc_a_tr',)>, <Element 'tr' class=('gsc_a_tr',)>, <Element 'tr' class=('gsc_a_tr',)>, <Element 'tr' class=('gsc_a_tr',)>, <Element 'tr' class=('gsc_a_tr',)>, <Element 'tr' class=('gsc_a_tr',)>, <Element 'tr' class=('gsc_a_tr',)>, <Element 'tr' class=('gsc_a_tr',)>, <Element 'tr' class=('gsc_a_tr',)>, <Element 'tr' class=('gsc_a_tr',)>, <Element 'tr' class=('gsc_a_tr',)>, <Element 'tr' class=('gsc_a_tr',)>, <Element 'tr' class=('gsc_a_tr',)>, <Element 'tr' class=('gsc_a_tr',)>, <Element 'tr' class=('gsc_a_tr',)>]\n",
            "Is show more button disabled? No\n"
          ]
        }
      ]
    },
    {
      "cell_type": "code",
      "source": [
        "results = []\n",
        "\n",
        "for article in articles:\n",
        "    title = article.xpath('.//a[@class=\"gsc_a_at\"]/text()', first=True)\n",
        "    authors = article.xpath('.//div[@class=\"gs_gray\"][1]/text()', first=True)\n",
        "    journal = article.xpath('.//div[@class=\"gs_gray\"][2]/text()', first=True)\n",
        "    publish_year = article.xpath('.//a[@class=\"gsc_a_ac gs_ibl\"]/text()', first=True)\n",
        "    citations_no = article.xpath('.//span[@class=\"gsc_a_h gsc_a_hc gs_ibl\"]/text()', first=True)\n",
        "    results.append({\n",
        "        'title': title,\n",
        "        'authors': authors,\n",
        "        'journal': journal,\n",
        "        'publish_year': publish_year,\n",
        "        'citations_no': citations_no,\n",
        "    })\n",
        "\n",
        "results"
      ],
      "metadata": {
        "colab": {
          "base_uri": "https://localhost:8080/"
        },
        "id": "PHjwkXn7PW54",
        "outputId": "d94d4146-0968-4515-d0f6-bde37f009dff"
      },
      "execution_count": null,
      "outputs": [
        {
          "output_type": "execute_result",
          "data": {
            "text/plain": [
              "[{'title': 'Оn behalf of the American Heart Association Council on Epidemiology and Prevention Statistics Committee and Stroke Statistics Subcommittee',\n",
              "  'authors': 'EJ Benjamin, MJ Blaha, SE Chiuve, M Cushman, SR Das',\n",
              "  'journal': 'Heart disease and stroke statistics',\n",
              "  'publish_year': '3',\n",
              "  'citations_no': '2017'},\n",
              " {'title': 'on behalf of the American Heart Association Statistics Committee and Stroke Statistics Subcommittee, et al. AHA statistical update: executive summary: heart disease and stroke\\xa0…',\n",
              "  'authors': 'AS Go, D Mozaffarian, VL Roger, EJ Benjamin, JD Berry, WB Borden, ...',\n",
              "  'journal': 'Circulation 129, 399-410',\n",
              "  'publish_year': '3',\n",
              "  'citations_no': '2014'},\n",
              " {'title': 'Reported Stroke Symptoms and their Associated Risk Factors in the Kingdom of Saudi Arabia, 2013',\n",
              "  'authors': 'C El Bcheraoui, M Basulaiman, MA AlMazroa, F Daoud, M Tuffaha, ...',\n",
              "  'journal': 'J Hypertens 3 (5), 1000177',\n",
              "  'publish_year': '3',\n",
              "  'citations_no': '2014'},\n",
              " {'title': 'Concentrating risk: a systematic analysis of the global smoking epidemic',\n",
              "  'authors': 'MK Freeman, E Sanman, K Cowling, M Ng, AD Lopez, A Mokdad, ...',\n",
              "  'journal': 'The Lancet 381, S52',\n",
              "  'publish_year': '3',\n",
              "  'citations_no': '2013'},\n",
              " {'title': 'Heart Disease and Stroke Statistics 唱 2010 Update',\n",
              "  'authors': '畅 American Heart Association',\n",
              "  'journal': 'Dallas, Texas: American Heart Association',\n",
              "  'publish_year': '3',\n",
              "  'citations_no': '2010'},\n",
              " {'title': 'A population based study examining language as a predictor of colorectal cancer screening among overweight and obese Hispanic adults in the United States',\n",
              "  'authors': 'W Pearson, SR Dube, LC Seeff, ES Ford, AH Mokdad, MF Dulin',\n",
              "  'journal': 'The Open Epidemiology Journal 2, 44-50',\n",
              "  'publish_year': '3',\n",
              "  'citations_no': '2009'},\n",
              " {'title': 'Feature Paper: Methodological issues in post-disaster mental health needs assessment research',\n",
              "  'authors': 'RC Kessler, TM Keane, A Mokdad, RJ Ursano, AM Zaslavsky',\n",
              "  'journal': 'Conference on Health Survey Research Methods. Peachtree City, Georgia, 33',\n",
              "  'publish_year': '3',\n",
              "  'citations_no': '2007'},\n",
              " {'title': 'Emerging issues in public health information',\n",
              "  'authors': 'BCK Choi, AH Mokdad',\n",
              "  'journal': 'Journal of Epidemiology and Community Health 60 (9), 823',\n",
              "  'publish_year': '3',\n",
              "  'citations_no': '2006'},\n",
              " {'title': 'Prevalence of Obesity and the Metabolic Syndrome',\n",
              "  'authors': 'AH Mokdad, ES Ford',\n",
              "  'journal': 'Overweight and the Metabolic Syndrome: From Bench to Bedside, 37-53',\n",
              "  'publish_year': '3',\n",
              "  'citations_no': '2006'},\n",
              " {'title': 'Moving the Behavioral Risk Factor Surveillance System from RDD to Multimode: A Web/Mail/Telephone Experiment',\n",
              "  'authors': 'MW Link, A Mokdad',\n",
              "  'journal': 'Proceedings of the American Statistical Association, 3890-6',\n",
              "  'publish_year': '3',\n",
              "  'citations_no': '2004'},\n",
              " {'title': 'Serdula',\n",
              "  'authors': 'AH Mokdad',\n",
              "  'journal': 'M. k., Dietz, WH, Bowman, BA, Marks, JS, & Koplan, KP, 1991-1998',\n",
              "  'publish_year': '3',\n",
              "  'citations_no': '1999'},\n",
              " {'title': 'DIETARY-FAT AND THE RISK OF CANCERS OF THE BREAST, PROSTATE, AND COLON IN A 17-YEAR PROSPECTIVE-STUDY',\n",
              "  'authors': 'TE Byers, AH Mokdad',\n",
              "  'journal': 'FASEB JOURNAL 5 (4), A563-A563',\n",
              "  'publish_year': '3',\n",
              "  'citations_no': '1991'},\n",
              " {'title': 'on behalf of the American Heart Association Statistics Committee and Stroke Statistics Subcommittee',\n",
              "  'authors': 'D Woo, RW Yeh, MB Turner',\n",
              "  'journal': 'Heart disease and stroke statistics—2016 update: a report from the American\\xa0…',\n",
              "  'publish_year': '3',\n",
              "  'citations_no': None},\n",
              " {'title': 'on behalf of the American Heart Association Statistics Committee and Stroke Statistics Subcommittee (2013) Heart disease and stroke statistics–2013 update: a report from the\\xa0…',\n",
              "  'authors': 'AS Go, D Mozaffarian, VL Roger, EJ Benjamin, JD Berry, WB Borden, ...',\n",
              "  'journal': 'Circulation 127, e6',\n",
              "  'publish_year': '3',\n",
              "  'citations_no': None},\n",
              " {'title': 'The burden of diseases and risk factors in Bangladesh, 1990–2019: a systematic analysis for the Global Burden of Disease Study 2019',\n",
              "  'authors': 'SMS Islam, R Uddin, S Das, SI Ahmed, SB Zaman, SM Alif, MT Hossen, ...',\n",
              "  'journal': 'The Lancet Global Health 11 (12), e1931-e1942',\n",
              "  'publish_year': '2',\n",
              "  'citations_no': '2023'},\n",
              " {'title': 'Global, regional, and national incidence of six major immune-mediated inflammatory diseases: findings from the global burden of disease study 2019',\n",
              "  'authors': 'D Wu, Y Jin, Y Xing, MD Abate, M Abbasian, M Abbasi-Kangevari, ...',\n",
              "  'journal': 'EClinicalMedicine 64',\n",
              "  'publish_year': '2',\n",
              "  'citations_no': '2023'},\n",
              " {'title': 'Rural–Urban Differences in Vaccination and Hesitancy Rates and Trust: US COVID-19 Trends and Impact Survey on a Social Media Platform, May 2021–April 2022',\n",
              "  'authors': 'S Soorapanth, R Cheung, X Zhang, AH Mokdad, GA Mensah',\n",
              "  'journal': 'American Journal of Public Health 113 (6), 680-688',\n",
              "  'publish_year': '2',\n",
              "  'citations_no': '2023'},\n",
              " {'title': 'Access and use of oxytocin for postpartum haemorrhage prevention: a pre-post study targeting the poorest in six Mesoamerican countries',\n",
              "  'authors': 'AM Kamath, AM Schaefer, EB Palmisano, CK Johanns, AG Marmol, ...',\n",
              "  'journal': 'BMJ open 10 (3), e034084',\n",
              "  'publish_year': '2',\n",
              "  'citations_no': '2020'},\n",
              " {'title': 'Untangling uncertainty with common random numbers: a simulation study',\n",
              "  'authors': 'AD Flaxman, AW Deason, AJ Dolgert, JE Mumford, RJD Sorensen, ...',\n",
              "  'journal': 'Proceedings of the Summer Simulation Multi-Conference, 1-12',\n",
              "  'publish_year': '2',\n",
              "  'citations_no': '2017'},\n",
              " {'title': 'Assessing the Nonfatal Burden of Childhood Diarrhea Including Malnutrition, Physical Growth, and Cognitive Development',\n",
              "  'authors': 'IAM Khalil, C Troeger, P Rao, M Forouzanfar, D Columbara, K Misra, ...',\n",
              "  'journal': 'Open Forum Infectious Diseases 3 (suppl_1), 1220',\n",
              "  'publish_year': '2',\n",
              "  'citations_no': '2016'},\n",
              " {'title': 'Heart disease and stroke statistics—2017 update',\n",
              "  'authors': 'E Benjamin, J Emelia, JB Michael, EC Stephanie',\n",
              "  'journal': 'A Report From the American Heart Association. Circu',\n",
              "  'publish_year': '2',\n",
              "  'citations_no': '2015'},\n",
              " {'title': 'AHA Statistical Update Executive Summary: Heart Disease and Stroke Statistics—2013 Update A Report From the American Heart Association WRITING GROUP MEMBERS',\n",
              "  'authors': 'AS Go',\n",
              "  'journal': None,\n",
              "  'publish_year': '2',\n",
              "  'citations_no': '2013'},\n",
              " {'title': 'Mode and address frame alternatives to random-digit dialing',\n",
              "  'authors': 'MW Link, MP Battaglia, MR Frankel, L Osborn, AH Mokdad',\n",
              "  'journal': 'Joint Statistical Meeting 2006 proceedings [Cd-Rom]: Section on Survey\\xa0…',\n",
              "  'publish_year': '2',\n",
              "  'citations_no': '2007'},\n",
              " {'title': 'Incorporating a multimode design into a random-digit-dialing survey',\n",
              "  'authors': 'MP Battaglia, L Osborn, ML Link, MR Frankel, AH Mokdad',\n",
              "  'journal': 'Proceedings of the Survey Research Methods Section of the American\\xa0…',\n",
              "  'publish_year': '2',\n",
              "  'citations_no': '2007'},\n",
              " {'title': 'Augmenting the BRFSS RDD Design with Mail and Web Modes: Results from a Multi-State Experiment',\n",
              "  'authors': 'MW Link, A Mokdad, R Jiles, K Weiner, D Roe',\n",
              "  'journal': 'Proceedings of the American Statistical Association, 4961-7',\n",
              "  'publish_year': '2',\n",
              "  'citations_no': '2004'},\n",
              " {'title': 'Assessing the Impact of Methodological Enhancements on Different Subpopulations in an Experiment on the Behavioral Risk Factor Surveillance System',\n",
              "  'authors': 'J Eyerman, MW Link, A Mokdad',\n",
              "  'journal': 'Proceedings of the American Statistical Association, 1357-61',\n",
              "  'publish_year': '2',\n",
              "  'citations_no': '2003'},\n",
              " {'title': 'The burden of bacterial antimicrobial resistance in the WHO African region in 2019: a cross-country systematic analysis',\n",
              "  'authors': 'B Sartorius, AP Gray, ND Weaver, GR Aguilar, LR Swetschinski, KS Ikuta, ...',\n",
              "  'journal': 'The Lancet Global Health 12 (2), e201-e216',\n",
              "  'publish_year': '1',\n",
              "  'citations_no': '2024'},\n",
              " {'title': 'Population health outcomes in South Korea 1990–2019, and projections up to 2040: a systematic analysis for the Global Burden of Disease Study 2019',\n",
              "  'authors': 'S Park, MS Kim, DK Yon, SW Lee, JL Ward, SA McLaughlin, ML Mehlman, ...',\n",
              "  'journal': 'The Lancet Public Health 8 (8), e639-e650',\n",
              "  'publish_year': '1',\n",
              "  'citations_no': '2023'},\n",
              " {'title': 'Burden of breast cancer and attributable risk factors in the North Africa and Middle East region, 1990-2019: a systematic analysis for the Global Burden of Disease Study 2019',\n",
              "  'authors': 'S Azadnajafabad, S Saeedi Moghaddam, E Mohammadi, N Rezaei, ...',\n",
              "  'journal': 'Frontiers in Oncology 13, 1132816',\n",
              "  'publish_year': '1',\n",
              "  'citations_no': '2023'},\n",
              " {'title': 'Should China be closed forever? A Preventive Medicine golden jubilee commentary',\n",
              "  'authors': 'S Liu, MZ Wang, AH Mokdad',\n",
              "  'journal': 'Preventive Medicine 161, 107102',\n",
              "  'publish_year': '1',\n",
              "  'citations_no': '2022'},\n",
              " {'title': 'Estimating health care delivery system value for each US state and testing key associations',\n",
              "  'authors': 'JL Dieleman, AS Kaldjian, M Sahu, C Chen, A Liu, A Chapin, KW Scott, ...',\n",
              "  'journal': 'Health Services Research 57 (3), 557-567',\n",
              "  'publish_year': '1',\n",
              "  'citations_no': '2022'},\n",
              " {'title': 'CTAP: Covid-19 Tracking Application',\n",
              "  'authors': 'A Mokdad, J Haydar, J Itani, W Fahs',\n",
              "  'journal': '2021 22nd International Arab Conference on Information Technology (ACIT), 1-5',\n",
              "  'publish_year': '1',\n",
              "  'citations_no': '2021'},\n",
              " {'title': 'Glycemic control among patients with diabetes and comorbid depression in gulf countries: A systematic review',\n",
              "  'authors': 'SM Alsaad, TA Binmoammar, S Hassounah, AH Mokdad, S Rawaf',\n",
              "  'journal': 'King Saud University',\n",
              "  'publish_year': '1',\n",
              "  'citations_no': '2021'},\n",
              " {'title': 'Matching action to need: an analysis of Global Burden of Disease 2017 and population health data to focus adolescent health policy and actions in Myanmar',\n",
              "  'authors': 'KI Cini, PM Win, ZY Swe, KK Than, TM Win, YW Aung, AA Myint, ...',\n",
              "  'journal': 'Global health action 14 (1), 1844976',\n",
              "  'publish_year': '1',\n",
              "  'citations_no': '2021'},\n",
              " {'title': 'Burden of diarrhea in the Eastern Mediterranean Region, 1990–2015: findings from the Global Burden of Disease 2015 study',\n",
              "  'authors': 'I Khalil, C El Bcheraoui, R Charara, M Moradi-Lakeh, A Afshin, ...',\n",
              "  'journal': 'International Journal of Public Health, S109-S121',\n",
              "  'publish_year': '1',\n",
              "  'citations_no': '2018'},\n",
              " {'title': 'Burden of obesity in the Eastern Mediterranean Region',\n",
              "  'authors': 'AH Mokdad, C El Bcheraoui, A Afshin, R Charara, I Khalil, ...',\n",
              "  'journal': 'Region Int J Public Health',\n",
              "  'publish_year': '1',\n",
              "  'citations_no': '2018'},\n",
              " {'title': 'State-level Disparities in Health Loss Due to Cardiovascular Causes: Results of the Global Burden of Disease 2015 Study',\n",
              "  'authors': 'GA Roth, CO Johnson, NJ Kassebaum, AH Mokdad, M Naghavi, T Vos',\n",
              "  'journal': 'Circulation 135 (suppl_1), A19-A19',\n",
              "  'publish_year': '1',\n",
              "  'citations_no': '2017'},\n",
              " {'title': 'Healthy competition drives success in results-based aid: lessons from the Salud Mesoamerica initiative',\n",
              "  'authors': 'CE Bcheraoui, EB Palmisano, E Dansereau, A Schaefer, A Woldeab, ...',\n",
              "  'journal': 'PLoS One 12 (10), 1-17',\n",
              "  'publish_year': '1',\n",
              "  'citations_no': '2017'},\n",
              " {'title': 'Erratum: Global, regional, and national levels of maternal mortality, 1990–2015: a systematic analysis for the Global Burden of Disease Study 2015 (The Lancet (2016) 388 (10053\\xa0…',\n",
              "  'authors': 'NJ Kassebaum, RM Barber, L Dandona, SI Hay, HJ Larson, SS Lim, ...',\n",
              "  'journal': 'Lancet Publishing Group',\n",
              "  'publish_year': '1',\n",
              "  'citations_no': '2017'},\n",
              " {'title': 'Prevention is better than treatment: the case of Qatar',\n",
              "  'authors': 'AH Mokdad, AD Lopez',\n",
              "  'journal': 'Population Health Metrics 12 (1), 1-2',\n",
              "  'publish_year': '1',\n",
              "  'citations_no': '2014'},\n",
              " {'title': 'Implementing an effective leadership and management training program for clinical and public health laboratory directors and other mid senior-level managers in the Middle East',\n",
              "  'authors': 'L Perrone, A Downer, A Mokdad, E Scott, T Perdue, S Shotorbani, ...',\n",
              "  'journal': 'Annals of Global Health 80 (3), 174-175',\n",
              "  'publish_year': '1',\n",
              "  'citations_no': '2014'},\n",
              " {'title': 'Validation of a new predictive risk model: measuring the impact of major modifiable risks of death for patients and populations',\n",
              "  'authors': 'E Carnahan, SS Lim, EC Nelson, CW Gillespie, AH Mokdad, CJL Murray, ...',\n",
              "  'journal': 'The Lancet 381, S26',\n",
              "  'publish_year': '1',\n",
              "  'citations_no': '2013'},\n",
              " {'title': 'Stroke prevention in the Stroke Belt: Is the adolescence period the clue?',\n",
              "  'authors': 'L Castilla-Guerra, AH Mokdad',\n",
              "  'journal': 'Neurology 80 (18), 1628-1629',\n",
              "  'publish_year': '1',\n",
              "  'citations_no': '2013'},\n",
              " {'title': 'The United States of America and the Islamic Republic of Iran: the path to preventing traffic injuries?',\n",
              "  'authors': 'AH Mokdad',\n",
              "  'journal': 'Population health metrics 8 (1), 1-2',\n",
              "  'publish_year': '1',\n",
              "  'citations_no': '2010'},\n",
              " {'title': 'Breast cancer screening in the United States: Is universal coverage possible?',\n",
              "  'authors': 'AH Mokdad',\n",
              "  'journal': 'Preventive medicine 47 (5), 487-488',\n",
              "  'publish_year': '1',\n",
              "  'citations_no': '2008'},\n",
              " {'title': 'Evidence-based public health policy and practice: Enhancing global capacity in the surveillance, prevention, and control of chronic diseases: seven themes to consider and build\\xa0…',\n",
              "  'authors': 'BCK Choi, DV McQueen, P Puska, KA Douglas, M Ackland, ...',\n",
              "  'journal': 'Journal of Epidemiology and Community Health, 391-397',\n",
              "  'publish_year': '1',\n",
              "  'citations_no': '2008'},\n",
              " {'title': 'Dietary magnesium intake and prevalence of the metabolic syndrome',\n",
              "  'authors': 'ES Ford, CY Li, LC McGuire, AH Mokdad, SM Liu',\n",
              "  'journal': 'Circulation 113 (8), E345-E345',\n",
              "  'publish_year': '1',\n",
              "  'citations_no': '2006'},\n",
              " {'title': 'A Rapid Assessment of Nutrition in Banda Aceh and Aceh Besar, Indonesia, Three Weeks After the Tsunami.',\n",
              "  'authors': 'AH Mokdad, D Hipgrave, C Hudspeth, H Sudiman, SR Widjojo, Z Chairul, ...',\n",
              "  'journal': 'Retrieved February 17, 2009',\n",
              "  'publish_year': '1',\n",
              "  'citations_no': '2005'},\n",
              " {'title': 'Trends in the prevalence of the metabolic syndrome among US adults.',\n",
              "  'authors': 'ES Ford, WH Giles, AH Mokdad',\n",
              "  'journal': 'Circulation 109 (7), E131-E132',\n",
              "  'publish_year': '1',\n",
              "  'citations_no': '2004'},\n",
              " {'title': 'Serum total cholesterol concentrations and awareness, treatment, and control of hypercholesterolemia among US adults-Response',\n",
              "  'authors': 'ES Ford, AH Mokdad, WH Giles, GA Mensah',\n",
              "  'journal': 'Circulation 108 (21), E152-E152',\n",
              "  'publish_year': '1',\n",
              "  'citations_no': '2003'},\n",
              " {'title': 'Trends in the burden of most common obesity‐related cancers in 16 Southern Africa development community countries, 1990–2019. Findings from the global burden of disease study',\n",
              "  'authors': 'P Gona, C Gona, S Ballout, C Mapoma, S Rao, A Mokdad, ...',\n",
              "  'journal': 'Obesity Science & Practice 10 (1), e715',\n",
              "  'publish_year': None,\n",
              "  'citations_no': '2024'},\n",
              " {'title': 'Temporal patterns of cancer burden in Asia, 1990–2019: a systematic examination for the Global Burden of Disease 2019 study',\n",
              "  'authors': 'R Sharma, H Abbastabar, DM Abdulah, H Abidi, H Abolhassani, ...',\n",
              "  'journal': 'The Lancet Regional Health-Southeast Asia',\n",
              "  'publish_year': None,\n",
              "  'citations_no': '2024'},\n",
              " {'title': 'Mortality and disability-adjusted life years in North Africa and Middle East attributed to kidney dysfunction: a systematic analysis for the Global Burden of Disease Study 2019',\n",
              "  'authors': 'MM Rashidi, S Saeedi Moghaddam, S Azadnajafabad, E Mohammadi, ...',\n",
              "  'journal': 'Clinical Kidney Journal 17 (1), sfad279',\n",
              "  'publish_year': None,\n",
              "  'citations_no': '2024'},\n",
              " {'title': 'Achieving Equity in Childhood Vaccination: A Mixed-Methods Study of Immunization Programs, Policies, and Coverage in 3 US States',\n",
              "  'authors': 'KQ Brumbaugh, IJ Ornelas, FR Casas, AH Mokdad',\n",
              "  'journal': 'Journal of Public Health Management and Practice 30 (1), E31-E40',\n",
              "  'publish_year': None,\n",
              "  'citations_no': '2024'},\n",
              " {'title': 'Hearing Loss Prevalence, Years Lived With Disability, and Hearing Aid Use in the United States From 1990 to 2019: Findings From the Global Burden of Disease Study',\n",
              "  'authors': 'LM Haile, AU Orji, KM Reavis, PS Briant, KM Lucas, F Alahdab, ...',\n",
              "  'journal': 'Ear and hearing 45 (1), 257-267',\n",
              "  'publish_year': None,\n",
              "  'citations_no': '2024'},\n",
              " {'title': 'Global Burden of Cardiovascular Diseases and Risks, 1990-2022',\n",
              "  'authors': 'M George A, V Fuster, CJL Murray, GA Roth, GA Mensah, YH Abate, ...',\n",
              "  'journal': 'Elsevier',\n",
              "  'publish_year': None,\n",
              "  'citations_no': '2023'},\n",
              " {'title': 'Drug-use disorders in the Eastern Mediterranean Region: a glance at GBD 2019 findings',\n",
              "  'authors': 'A Amirkafi, F Mohammadi, A Tehrani-Banihashemi, M Moradi-Lakeh, ...',\n",
              "  'journal': 'Social Psychiatry and Psychiatric Epidemiology, 1-15',\n",
              "  'publish_year': None,\n",
              "  'citations_no': '2023'},\n",
              " {'title': \"Kidney dysfunction's attributed mortality and disability-adjusted life years in the North Africa and Middle East region, 1990-2019: a systematic analysis for the Global Burden\\xa0…\",\n",
              "  'authors': 'MM Rashidi, SS Moghaddam, S Azadnajafabad, E Mohammadi, A Khalaji, ...',\n",
              "  'journal': 'Clinical Kidney Journal, sfad279',\n",
              "  'publish_year': None,\n",
              "  'citations_no': '2023'},\n",
              " {'title': 'Racial–ethnic inequality in cause-specific mortality in the US, and the contribution of social, economic, and demographic factors',\n",
              "  'authors': 'P Kendrick, YO Kelly, GA Mensah, D Clark, KP Haase, X Zhang, ...',\n",
              "  'journal': 'APHA 2023 Annual Meeting and Expo',\n",
              "  'publish_year': None,\n",
              "  'citations_no': '2023'},\n",
              " {'title': 'Healthy life expectancy by county, race, and ethnicity in US counties, 2009–2019',\n",
              "  'authors': 'C Schmidt, L Dwyer-Lindgren',\n",
              "  'journal': 'APHA 2023 Annual Meeting and Expo',\n",
              "  'publish_year': None,\n",
              "  'citations_no': '2023'},\n",
              " {'title': 'Spatial-temporal trends in prevalence of overweight and obesity by race–ethnicity in US counties, 2000–2019',\n",
              "  'authors': 'E Kahn, F Mouhanna, YO Kelly, M Baumann, C Schmidt, GA Mensah, ...',\n",
              "  'journal': 'APHA 2023 Annual Meeting and Expo',\n",
              "  'publish_year': None,\n",
              "  'citations_no': '2023'},\n",
              " {'title': 'The global burden of disease and health systems strengthening',\n",
              "  'authors': 'AH Mokdad',\n",
              "  'journal': 'APHA 2023 Annual Meeting and Expo',\n",
              "  'publish_year': None,\n",
              "  'citations_no': '2023'},\n",
              " {'title': 'National trends in PM2. 5 exposure vary by race/ethnicity and between counties in US',\n",
              "  'authors': 'GA Mensah, E Kahn, L Dwyer-Lindgren, M Masterson, N Rajapakse, ...',\n",
              "  'journal': 'APHA 2023 Annual Meeting and Expo',\n",
              "  'publish_year': None,\n",
              "  'citations_no': '2023'},\n",
              " {'title': 'Life expectancy by county and Latino heritage group in the US, 2000–2019',\n",
              "  'authors': 'L Dwyer-Lindgren, DO Sylte, P Kendrick, M Baumann, YO Kelly, ...',\n",
              "  'journal': 'APHA 2023 Annual Meeting and Expo',\n",
              "  'publish_year': None,\n",
              "  'citations_no': '2023'},\n",
              " {'title': 'Global, regional, and national mortality due to unintentional carbon monoxide poisoning, 2000–2021: results from the Global Burden of Disease Study 2021',\n",
              "  'authors': 'ME Moberg, EB Hamilton, SM Zeng, D Bryazka, JT Zhao, R Feldman, ...',\n",
              "  'journal': 'The Lancet Public Health 8 (11), e839-e849',\n",
              "  'publish_year': None,\n",
              "  'citations_no': '2023'},\n",
              " {'title': 'Global Prevalence and Burden of Orofacial Clefts: A Systematic Analysis for the Global Burden of Disease Study 2019',\n",
              "  'authors': 'RS Kantar, US Hamdan, JN Muller, K Hemal, RA Younan, M Haddad, ...',\n",
              "  'journal': 'Journal of Craniofacial Surgery 34 (7), 2012-2015',\n",
              "  'publish_year': None,\n",
              "  'citations_no': '2023'},\n",
              " {'title': 'The Global, Regional, and National Burden of Adult Lip, Oral, and Pharyngeal Cancer in 204 Countries and Territories',\n",
              "  'authors': 'AR Cunha, K Compton, R Xu, R Mishra, MT Drangsholt, JLF Antunes, ...',\n",
              "  'journal': 'American Medical Association (AMA)',\n",
              "  'publish_year': None,\n",
              "  'citations_no': '2023'},\n",
              " {'title': 'The burden of stomach cancer mortality by county, race, and ethnicity in the USA, 2000–2019: a systematic analysis of health disparities',\n",
              "  'authors': 'P Kendrick, YO Kelly, MM Baumann, K Compton, BF Blacker, F Daoud, ...',\n",
              "  'journal': 'The Lancet Regional Health–Americas 24',\n",
              "  'publish_year': None,\n",
              "  'citations_no': '2023'},\n",
              " {'title': \"Global Burden of Disease data for Indonesia–Authors' reply\",\n",
              "  'authors': 'N Mboi, AH Mokdad',\n",
              "  'journal': 'The Lancet Global Health 11 (3), e337',\n",
              "  'publish_year': None,\n",
              "  'citations_no': '2023'},\n",
              " {'title': 'The burden of Ischemic Heart Disease and the Epidemiologic Transition in the Eastern Mediterranean Region: 1990-2019',\n",
              "  'authors': 'M Sadeghi, M Jamalian, K Mehrabani-Zeinabad, KII Adawi, J Kopec, ...',\n",
              "  'journal': None,\n",
              "  'publish_year': None,\n",
              "  'citations_no': '2023'},\n",
              " {'title': 'Changes in the burden and underlying causes of heart failure in the Eastern Mediterranean Region, 1990–2019: an analysis of the Global Burden of Disease Study 2019',\n",
              "  'authors': 'H Razieh, D Shafie, KI Turk-Adawi, AM Hajaj, K Mehrabani-Zeinabad, ...',\n",
              "  'journal': 'Elsevier',\n",
              "  'publish_year': None,\n",
              "  'citations_no': '2023'},\n",
              " {'title': 'Impact of the Salud Mesoamerica Initiative on delivery care choices in Guatemala, Honduras, and Nicaragua',\n",
              "  'authors': 'B Hernandez, KP Harris, CK Johanns, EB Palmisano, R Cogen, MG Thom, ...',\n",
              "  'journal': 'BMC Pregnancy and Childbirth 22 (1), 1-19',\n",
              "  'publish_year': None,\n",
              "  'citations_no': '2022'},\n",
              " {'title': 'COVID-19 Future Forecasting Using Machine Learning Models',\n",
              "  'authors': 'H Awada, J Haydar, A Mokdad, A Ghandour',\n",
              "  'journal': '2022 International Arab Conference on Information Technology (ACIT), 1-8',\n",
              "  'publish_year': None,\n",
              "  'citations_no': '2022'},\n",
              " {'title': 'Road Traffic Prediction based on Feed Forward and Radial Basis Function Neural Network',\n",
              "  'authors': 'I Zaytoun, W Fahs, A Mokdad, R Khatoun, F Chbib',\n",
              "  'journal': '2022 International Conference on Electrical, Computer, Communications and\\xa0…',\n",
              "  'publish_year': None,\n",
              "  'citations_no': '2022'},\n",
              " {'title': 'Associations between parent and child Covid-19 vaccination hesitancy',\n",
              "  'authors': 'A Mokdad',\n",
              "  'journal': 'APHA 2022 Annual Meeting and Expo',\n",
              "  'publish_year': None,\n",
              "  'citations_no': '2022'},\n",
              " {'title': 'An urgent plea for surgical care in Lebanon',\n",
              "  'authors': 'RS Kantar, JR Habib, H Nassereldine, JJ Hoballah, AH Mokdad',\n",
              "  'journal': 'The Lancet 399 (10337), 1777-1778',\n",
              "  'publish_year': None,\n",
              "  'citations_no': '2022'},\n",
              " {'title': 'How data from the United Kingdom has guided covid-19 vaccine policies',\n",
              "  'authors': 'A Majeed, E Tessier, J Stowe, AH Mokdad',\n",
              "  'journal': 'bmj 376',\n",
              "  'publish_year': None,\n",
              "  'citations_no': '2022'},\n",
              " {'title': 'Mapping age‑and sex‑specific HIV prevalence in adults in sub‑Saharan Africa, 2000–2018',\n",
              "  'authors': 'AL Serfes, MA Cork, M Yang, H Abbastabar, ES Abhilash, M Adabi, ...',\n",
              "  'journal': 'BMC',\n",
              "  'publish_year': None,\n",
              "  'citations_no': '2022'},\n",
              " {'title': 'A global systematic analysis of the occurrence, severity, and recovery pattern of long COVID in 2020 and 2021 (preprint)',\n",
              "  'authors': 'S Wulf Hanson, C Abbafati, J Aerts, Z Al-Aly, C Ashbaugh, T Ballouz, ...',\n",
              "  'journal': None,\n",
              "  'publish_year': None,\n",
              "  'citations_no': '2022'},\n",
              " {'title': 'GBD 2016 Headache Collaborators. Global, regional, and national burden of migraine and tension-type headache, 1990-2016: a systematic analysis for the Global Burden of Disease\\xa0…',\n",
              "  'authors': 'AH Mokdad',\n",
              "  'journal': 'LANCET NEUROLOGY 20 (12), E7-E7',\n",
              "  'publish_year': None,\n",
              "  'citations_no': '2021'},\n",
              " {'title': 'Tackling equitable coverage and quality of care for neonates in hospitals: a pre-post assessment on asphyxia interventions in Mesoamerica',\n",
              "  'authors': 'AM Kamath, MG Thom, CK Johanns, K Panhorst Harris, K Schwarzbauer, ...',\n",
              "  'journal': 'BMC pediatrics 21, 1-9',\n",
              "  'publish_year': None,\n",
              "  'citations_no': '2021'},\n",
              " {'title': 'The global burden of childhood and adolescent cancer in 2017: an analysis of the Global Burden of Disease Study 2017 (vol 20, pg 1211, 2019)',\n",
              "  'authors': 'LM Force, I Abdollahpour, SM Advani, D Agius, E Ahmadian, F Alahdab, ...',\n",
              "  'journal': 'LANCET ONCOLOGY 22 (8), E347-E347',\n",
              "  'publish_year': None,\n",
              "  'citations_no': '2021'},\n",
              " {'title': 'COVID-19 Antibody Seroprevalence Among General Population and High-Risk Occupational Groups in Eighteen Cities of Iran (preprint)',\n",
              "  'authors': 'H Poustchi, M Darvishian, Z Mohammadi, A Shayanrad, A Delavari, ...',\n",
              "  'journal': None,\n",
              "  'publish_year': None,\n",
              "  'citations_no': '2021'},\n",
              " {'title': 'Policy and technical considerations for implementing a risk-based approach to international travel in the context of COVID-19',\n",
              "  'authors': 'SL James, D Abate, KH Abate, SM Abay, C Abbafati, N Abbasi, ...',\n",
              "  'journal': 'The Lancet 392 (10159), 1789-1858',\n",
              "  'publish_year': None,\n",
              "  'citations_no': '2021'},\n",
              " {'title': 'Maxims for a Pandemic: Time, Distance, and Data',\n",
              "  'authors': 'J Koplan, SM Ostroff, AH Mokdad',\n",
              "  'journal': 'Annals of Internal Medicine 174 (1), 111-112',\n",
              "  'publish_year': None,\n",
              "  'citations_no': '2021'},\n",
              " {'title': 'Five insights from the Global Burden of Disease Study 2019',\n",
              "  'authors': 'M Christopher JL, C Abbafati, KM Abbas, M Abbasi, M Abbasi-Kangevari, ...',\n",
              "  'journal': 'Elsevier',\n",
              "  'publish_year': None,\n",
              "  'citations_no': '2020'},\n",
              " {'title': 'A Novel Approach to Monitoring the COVID-19 Pandemic using Emergency Department Discharge Diagnoses',\n",
              "  'authors': 'HC Duber, MK Hall, K Jablonowski, SA Stern, AH Mokdad, AD Flaxman',\n",
              "  'journal': 'medRxiv, 2020.06. 09.20126508',\n",
              "  'publish_year': None,\n",
              "  'citations_no': '2020'},\n",
              " {'title': 'Prevalence and attributable health burden of chronic respiratory diseases, 1990–2017: a systematic analysis forthe Global Burden of Disease Study 2017',\n",
              "  'authors': 'GBDCRD Collaborators',\n",
              "  'journal': 'Lancet Respir Med 8 (6), 585-596',\n",
              "  'publish_year': None,\n",
              "  'citations_no': '2020'},\n",
              " {'title': 'Assessing multidimensional care coverage for pre‐eclampsia in the era of universal health coverage: A pre–post evaluation of the Salud Mesoamérica Initiative',\n",
              "  'authors': 'AM Kamath, CK Johanns, MG Thom, RM Cogen, D Rios‐Zertuche, ...',\n",
              "  'journal': 'International Journal of Gynecology & Obstetrics 149 (3), 318-325',\n",
              "  'publish_year': None,\n",
              "  'citations_no': '2020'},\n",
              " {'title': 'Global trends of hand and wrist trauma: A systematic analysis of fracture and digit amputation using the Global Burden of Disease 2017 Study',\n",
              "  'authors': 'S Kisa, Hand Fractures Collaborators',\n",
              "  'journal': None,\n",
              "  'publish_year': None,\n",
              "  'citations_no': '2020'},\n",
              " {'title': 'Correction to Lancet Gastroenterol Hepatol 2020; 5: 42–54 (The Lancet Gastroenterology & Hepatology (2020) 5 (1)(42–54),(S2468125319303280),(10.1016/S2468-1253 (19) 30328-0))',\n",
              "  'authors': 'A Etemadi, M Hashemian, M Rahmati, A Nahvijou, S Saadatagah, ...',\n",
              "  'journal': 'The Lancet Gastroenterology and Hepatology 5 (3), e2-e2',\n",
              "  'publish_year': None,\n",
              "  'citations_no': '2020'},\n",
              " {'title': \"Re: Letter to the Editor of Public Health in response to'Trend of fatal poisoning at national and provincial levels in Iran from 1990 to 2015'\",\n",
              "  'authors': 'Z Ghodsi, SS Moghaddam, AH Mokdad, V Rahimi-Movaghar',\n",
              "  'journal': 'Public health 178, 181',\n",
              "  'publish_year': None,\n",
              "  'citations_no': '2020'},\n",
              " {'title': 'RBF Neural Network Model to Increase the Performance of Solar Panels',\n",
              "  'authors': 'MA Taleb, J Haydar, W Fahs, A Mokdad',\n",
              "  'journal': '2019 International Arab Conference on Information Technology (ACIT), 209-213',\n",
              "  'publish_year': None,\n",
              "  'citations_no': '2019'},\n",
              " {'title': 'Burden of Multiple Sclerosis in Eastern Mediterranean Region (1990-2016): Findings From the 2016 Global Burden of Disease Study',\n",
              "  'authors': 'MA Sahraian, M Moradi-Lakeh, P Heydarpour, S Eskandarieh, ...',\n",
              "  'journal': 'Medrxiv',\n",
              "  'publish_year': None,\n",
              "  'citations_no': '2019'},\n",
              " {'title': 'Mapping exclusive breastfeeding in Africa between 2000 and 2017 (vol 25, pg 1205, 2019)',\n",
              "  'authors': 'NV Bhattacharjee, LE Schaeffer, LB Marczak, JM Ross, SJ Swartz, ...',\n",
              "  'journal': 'NATURE MEDICINE 25 (9), 1458-1458',\n",
              "  'publish_year': None,\n",
              "  'citations_no': '2019'},\n",
              " {'title': 'Peace and Epidemiologic Transitions in Patterns of Health and Disease',\n",
              "  'authors': 'E Shimony, A Shekhar, RO Bonow, A Mokdad, A Lupel, T Rød-Larsen, ...',\n",
              "  'journal': 'European heart journal 40 (28), 2286-2288',\n",
              "  'publish_year': None,\n",
              "  'citations_no': '2019'},\n",
              " {'title': 'PREECLAMPSIA MANAGEMENT IN CENTRAL AMERICA: MOVING TOWARDS MULTIDIMENSIONAL CARE?',\n",
              "  'authors': 'AM Kamath, CK Johanns, EB Palmisano, D Rios-Zertuche, A Mokdad, ...',\n",
              "  'journal': 'ANESTHESIA AND ANALGESIA 128, 355-355',\n",
              "  'publish_year': None,\n",
              "  'citations_no': '2019'},\n",
              " {'title': 'The association between Zika virus infection and microcephaly in Brazil 2015-2017',\n",
              "  'authors': 'OJ Brady, A Osgood-Zimmerman, NJ Kassebaum, SE Ray, ...',\n",
              "  'journal': 'Plos Med 16 (3), e1002755',\n",
              "  'publish_year': None,\n",
              "  'citations_no': '2019'},\n",
              " {'title': 'The Incidence of Testicular Cancer in Iran from 1996 to 2017: A Systematic Review and Meta-analysis',\n",
              "  'authors': 'N Emma, A Tahiya, B Ettore, B Natacha, DE Ray, E Alexis, F Christina, ...',\n",
              "  'journal': None,\n",
              "  'publish_year': None,\n",
              "  'citations_no': '2019'},\n",
              " {'title': 'Effects of tranexamic acid on reducing blood loss in pelvic trauma: A randomised double-blind placebo controlled study.',\n",
              "  'authors': 'C Krycia, C Abigail, I Gloria, S Nafis, T Golsum, W Junjie, Y Theodore, ...',\n",
              "  'journal': None,\n",
              "  'publish_year': None,\n",
              "  'citations_no': '2019'}]"
            ]
          },
          "metadata": {},
          "execution_count": 32
        }
      ]
    },
    {
      "cell_type": "code",
      "source": [
        "response = session.get('https://free-proxy-list.net')\n",
        "response"
      ],
      "metadata": {
        "colab": {
          "base_uri": "https://localhost:8080/"
        },
        "id": "W5fCCIA5PblC",
        "outputId": "5321441d-dc14-4130-a5bf-c5c39d323f37"
      },
      "execution_count": null,
      "outputs": [
        {
          "output_type": "execute_result",
          "data": {
            "text/plain": [
              "<Response [200]>"
            ]
          },
          "metadata": {},
          "execution_count": 33
        }
      ]
    },
    {
      "cell_type": "code",
      "source": [
        "proxy_table = response.html.xpath('.//table[@class=\"table table-striped table-bordered\"]', first=True)\n",
        "proxy_table"
      ],
      "metadata": {
        "colab": {
          "base_uri": "https://localhost:8080/"
        },
        "id": "0Ya_eVyjPlV9",
        "outputId": "a649b080-b3d1-4400-a173-92c8771ac301"
      },
      "execution_count": null,
      "outputs": [
        {
          "output_type": "execute_result",
          "data": {
            "text/plain": [
              "<Element 'table' class=('table', 'table-striped', 'table-bordered')>"
            ]
          },
          "metadata": {},
          "execution_count": 34
        }
      ]
    },
    {
      "cell_type": "code",
      "source": [
        "ip_address = proxy_table.xpath('//td[1]/text()')\n",
        "port = proxy_table.xpath('//td[2]/text()')\n",
        "country = proxy_table.xpath('//td[4]/text()')\n",
        "google = proxy_table.xpath('//td[6]/text()')\n",
        "https = proxy_table.xpath('//td[7]/text()')\n",
        "\n",
        "proxies = list(zip(ip_address, port, country, google, https))\n",
        "proxies"
      ],
      "metadata": {
        "colab": {
          "base_uri": "https://localhost:8080/"
        },
        "id": "IZydz2uDPnCh",
        "outputId": "6dd0cafe-acf9-4629-cf62-86aa869e9ba2"
      },
      "execution_count": null,
      "outputs": [
        {
          "output_type": "execute_result",
          "data": {
            "text/plain": [
              "[('172.245.110.29', '9080', 'Canada', 'yes', 'no'),\n",
              " ('34.122.187.196', '80', 'United States', 'no', 'no'),\n",
              " ('124.217.226.9', '3128', 'Malaysia', 'no', 'no'),\n",
              " ('49.249.155.3', '80', 'India', 'no', 'no'),\n",
              " ('200.25.254.193', '54240', 'Colombia', 'no', 'no'),\n",
              " ('128.199.252.22', '8000', 'Singapore', 'no', 'no'),\n",
              " ('1.224.3.122', '3888', 'South Korea', 'no', 'no'),\n",
              " ('45.87.68.8', '15321', 'Germany', 'no', 'no'),\n",
              " ('211.222.252.187', '80', 'South Korea', 'no', 'no'),\n",
              " ('154.236.176.28', '1981', 'Egypt', 'yes', 'no'),\n",
              " ('202.61.204.51', '80', 'Germany', 'yes', 'no'),\n",
              " ('162.223.89.84', '80', 'United States', 'yes', 'no'),\n",
              " ('155.94.241.130', '3128', 'United States', 'no', 'no'),\n",
              " ('5.252.23.206', '3128', 'Slovakia', 'no', 'no'),\n",
              " ('12.186.205.123', '80', 'United States', 'no', 'no'),\n",
              " ('45.56.84.254', '55123', 'United States', 'no', 'no'),\n",
              " ('47.243.177.210', '8088', 'Hong Kong', 'no', 'no'),\n",
              " ('115.96.208.124', '8080', 'India', 'no', 'yes'),\n",
              " ('103.9.77.25', '8888', 'Vietnam', 'no', 'no'),\n",
              " ('182.23.113.179', '8080', 'Indonesia', 'no', 'no'),\n",
              " ('74.208.177.198', '80', 'United States', 'no', 'no'),\n",
              " ('45.227.193.166', '8080', 'Brazil', 'no', 'no'),\n",
              " ('103.191.155.46', '8080', 'Indonesia', 'no', 'no'),\n",
              " ('103.247.21.98', '8080', 'Indonesia', 'yes', 'no'),\n",
              " ('181.205.41.210', '7654', 'Colombia', 'yes', 'no'),\n",
              " ('167.99.236.14', '80', 'United States', 'no', 'no'),\n",
              " ('77.235.2.4', '3128', 'Kyrgyzstan', 'no', 'no'),\n",
              " ('217.182.210.152', '80', 'France', 'no', 'no'),\n",
              " ('78.28.152.113', '80', 'Bosnia and Herzegovina', 'no', 'no'),\n",
              " ('119.28.60.64', '8090', 'Hong Kong', 'yes', 'no'),\n",
              " ('117.54.114.33', '80', 'Indonesia', 'no', 'no'),\n",
              " ('159.65.186.46', '10002', 'United States', 'no', 'no'),\n",
              " ('68.183.134.152', '8000', 'United States', 'no', 'no'),\n",
              " ('167.172.238.6', '10004', 'United States', 'no', 'no'),\n",
              " ('181.65.200.53', '80', 'Peru', 'yes', 'no'),\n",
              " ('103.102.12.153', '8404', 'Indonesia', 'no', 'no'),\n",
              " ('159.65.219.126', '8000', 'United States', 'yes', 'no'),\n",
              " ('137.184.100.135', '80', 'United States', 'no', 'no'),\n",
              " ('188.166.56.246', '80', 'Netherlands', 'no', 'no'),\n",
              " ('51.15.242.202', '8888', 'France', 'no', 'no'),\n",
              " ('46.47.197.210', '3128', 'Russian Federation', 'no', 'no'),\n",
              " ('103.126.87.29', '8080', 'Indonesia', 'no', 'no'),\n",
              " ('162.223.94.164', '80', 'United States', 'no', 'no'),\n",
              " ('103.163.51.254', '80', 'Bangladesh', 'no', 'no'),\n",
              " ('103.127.1.130', '80', 'Bangladesh', 'yes', 'no'),\n",
              " ('104.225.220.233', '80', 'United States', 'yes', 'no'),\n",
              " ('20.210.113.32', '80', 'Japan', 'no', 'no'),\n",
              " ('139.162.78.109', '3128', 'Japan', 'no', 'no'),\n",
              " ('143.110.232.177', '80', 'United States', 'no', 'no'),\n",
              " ('41.204.63.118', '80', 'Ghana', 'no', 'no'),\n",
              " ('34.87.84.105', '80', 'Singapore', 'no', 'no'),\n",
              " ('47.74.152.29', '8888', 'Singapore', 'yes', 'no'),\n",
              " ('47.56.110.204', '8989', 'Hong Kong', 'no', 'no'),\n",
              " ('138.68.235.51', '80', 'United States', 'no', 'no'),\n",
              " ('197.243.20.178', '80', 'Rwanda', 'no', 'no'),\n",
              " ('20.24.43.214', '80', 'Singapore', 'no', 'no'),\n",
              " ('20.206.106.192', '80', 'Brazil', 'no', 'no'),\n",
              " ('139.59.1.14', '8080', 'India', 'no', 'no'),\n",
              " ('51.75.122.80', '80', 'France', 'no', 'no'),\n",
              " ('13.81.217.201', '80', 'Netherlands', 'no', 'no'),\n",
              " ('80.120.130.231', '80', 'Austria', 'no', 'no'),\n",
              " ('50.200.12.83', '80', 'United States', 'no', 'no'),\n",
              " ('50.173.140.150', '80', 'United States', 'no', 'no'),\n",
              " ('80.150.50.226', '80', 'Germany', 'yes', 'no'),\n",
              " ('78.28.152.78', '80', 'Bosnia and Herzegovina', 'no', 'no'),\n",
              " ('50.200.12.87', '80', 'United States', 'no', 'no'),\n",
              " ('202.131.65.110', '80', 'Hong Kong', 'yes', 'no'),\n",
              " ('62.99.138.162', '80', 'Austria', 'no', 'no'),\n",
              " ('213.33.126.130', '80', 'Austria', 'yes', 'no'),\n",
              " ('31.220.78.244', '80', 'Germany', 'yes', 'no'),\n",
              " ('50.206.111.88', '80', 'United States', 'yes', 'no'),\n",
              " ('50.222.245.42', '80', 'United States', 'no', 'no'),\n",
              " ('50.172.75.123', '80', 'United States', 'no', 'no'),\n",
              " ('50.217.226.43', '80', 'United States', 'no', 'no'),\n",
              " ('78.28.152.111', '80', 'Bosnia and Herzegovina', 'no', 'no'),\n",
              " ('190.5.77.211', '80', 'Honduras', 'no', 'no'),\n",
              " ('50.222.245.47', '80', 'United States', 'no', 'no'),\n",
              " ('20.205.61.143', '80', 'Hong Kong', 'no', 'no'),\n",
              " ('50.239.72.19', '80', 'United States', 'no', 'no'),\n",
              " ('50.207.199.81', '80', 'United States', 'no', 'no'),\n",
              " ('50.217.226.46', '80', 'United States', 'no', 'no'),\n",
              " ('102.130.125.86', '80', 'South Africa', 'no', 'no'),\n",
              " ('50.207.199.84', '80', 'United States', 'no', 'no'),\n",
              " ('50.170.90.25', '80', 'United States', 'no', 'no'),\n",
              " ('50.173.140.146', '80', 'United States', 'no', 'no'),\n",
              " ('50.175.212.72', '80', 'United States', 'no', 'no'),\n",
              " ('85.8.68.2', '80', 'Germany', 'no', 'no'),\n",
              " ('154.65.39.8', '80', 'Senegal', 'no', 'no'),\n",
              " ('50.239.72.17', '80', 'United States', 'no', 'no'),\n",
              " ('50.217.226.45', '80', 'United States', 'no', 'no'),\n",
              " ('50.173.140.149', '80', 'United States', 'no', 'no'),\n",
              " ('50.174.145.8', '80', 'United States', 'yes', 'no'),\n",
              " ('50.168.163.179', '80', 'United States', 'yes', 'no'),\n",
              " ('167.172.96.213', '80', 'Germany', 'no', 'no'),\n",
              " ('50.174.7.152', '80', 'United States', 'no', 'no'),\n",
              " ('50.174.7.153', '80', 'United States', 'no', 'no'),\n",
              " ('69.70.244.34', '80', 'Canada', 'no', 'no'),\n",
              " ('50.172.75.120', '80', 'United States', 'no', 'no'),\n",
              " ('190.103.177.131', '80', 'Argentina', 'no', 'no'),\n",
              " ('168.232.49.199', '80', 'El Salvador', 'no', 'no'),\n",
              " ('51.210.216.54', '80', 'France', 'yes', 'no'),\n",
              " ('37.120.189.106', '80', 'Germany', 'no', 'no'),\n",
              " ('50.174.7.159', '80', 'United States', 'yes', 'no'),\n",
              " ('103.247.23.202', '8080', 'Indonesia', 'no', 'no'),\n",
              " ('192.145.181.34', '8181', 'South Sudan', 'no', 'no'),\n",
              " ('103.177.10.139', '8080', 'Indonesia', 'yes', 'no'),\n",
              " ('186.148.47.251', '999', 'Chile', 'no', 'no'),\n",
              " ('91.233.169.23', '8081', 'Russian Federation', 'yes', 'no'),\n",
              " ('31.211.158.245', '5905', 'Bulgaria', 'yes', 'no'),\n",
              " ('41.57.25.129', '6060', 'South Africa', 'no', 'no'),\n",
              " ('104.37.102.130', '8181', 'United States', 'no', 'no'),\n",
              " ('119.92.188.29', '8080', 'Philippines', 'no', 'no'),\n",
              " ('161.156.199.78', '80', 'United States', 'no', 'no'),\n",
              " ('103.148.130.3', '7777', 'Indonesia', 'no', 'no'),\n",
              " ('196.20.12.41', '8080', 'Namibia', 'no', 'no'),\n",
              " ('103.87.169.187', '32650', 'India', 'no', 'no'),\n",
              " ('200.37.253.75', '999', 'Peru', 'no', 'no'),\n",
              " ('103.90.156.220', '8080', 'India', 'no', 'no'),\n",
              " ('168.194.171.16', '999', 'Peru', 'no', 'no'),\n",
              " ('189.248.149.179', '999', 'Mexico', 'no', 'no'),\n",
              " ('5.189.158.162', '3128', 'Germany', 'yes', 'no'),\n",
              " ('216.137.184.253', '80', 'United States', 'no', 'no'),\n",
              " ('12.186.205.120', '80', 'United States', 'no', 'no'),\n",
              " ('43.156.0.125', '8888', 'Singapore', 'no', 'no'),\n",
              " ('115.244.127.160', '80', 'India', 'no', 'no'),\n",
              " ('221.151.181.101', '8000', 'South Korea', 'no', 'no'),\n",
              " ('51.159.0.236', '2020', 'France', 'no', 'yes'),\n",
              " ('157.230.33.25', '8000', 'Singapore', 'no', 'yes'),\n",
              " ('146.190.35.152', '8000', 'United States', 'yes', 'yes'),\n",
              " ('84.15.154.202', '80', 'Lithuania', 'no', 'no'),\n",
              " ('50.122.86.118', '80', 'United States', 'no', 'no'),\n",
              " ('159.65.77.168', '8585', 'United States', 'yes', 'no'),\n",
              " ('69.48.179.103', '80', 'United States', 'no', 'no'),\n",
              " ('172.173.132.85', '80', 'United States', 'no', 'no'),\n",
              " ('164.132.170.100', '80', 'France', 'no', 'no'),\n",
              " ('162.223.116.75', '80', 'Canada', 'no', 'no'),\n",
              " ('67.43.227.226', '25639', 'Canada', 'yes', 'no'),\n",
              " ('188.166.197.129', '3128', 'Singapore', 'no', 'no'),\n",
              " ('178.128.113.118', '23128', 'Singapore', 'no', 'yes'),\n",
              " ('50.237.207.186', '80', 'United States', 'yes', 'no'),\n",
              " ('67.43.228.253', '14869', 'Canada', 'no', 'no'),\n",
              " ('142.93.2.226', '8000', 'United States', 'no', 'no'),\n",
              " ('123.30.154.171', '7777', 'Vietnam', 'no', 'no'),\n",
              " ('142.44.210.174', '80', 'Canada', 'no', 'no'),\n",
              " ('178.128.200.87', '80', 'Germany', 'no', 'no'),\n",
              " ('209.97.150.167', '3128', 'United States', 'no', 'no'),\n",
              " ('83.136.219.140', '80', 'United States', 'no', 'no'),\n",
              " ('114.129.2.82', '8081', 'Japan', 'no', 'no'),\n",
              " ('37.77.134.146', '8080', 'Russian Federation', 'no', 'no'),\n",
              " ('5.252.23.220', '3128', 'Slovakia', 'no', 'no'),\n",
              " ('34.154.161.152', '80', 'Italy', 'no', 'yes'),\n",
              " ('128.199.187.210', '8000', 'Singapore', 'no', 'no'),\n",
              " ('65.21.131.54', '6889', 'Finland', 'no', 'yes'),\n",
              " ('198.44.255.3', '80', 'Hong Kong', 'no', 'no'),\n",
              " ('162.223.91.11', '80', 'United States', 'no', 'no'),\n",
              " ('24.144.95.168', '8000', 'United States', 'no', 'yes'),\n",
              " ('159.89.238.24', '8000', 'United States', 'no', 'yes'),\n",
              " ('195.35.3.117', '80', 'Germany', 'no', 'no'),\n",
              " ('85.26.146.169', '80', 'Russian Federation', 'no', 'no'),\n",
              " ('50.200.12.85', '80', 'United States', 'yes', 'no'),\n",
              " ('93.117.225.195', '80', 'Netherlands', 'no', 'no'),\n",
              " ('50.174.145.10', '80', 'United States', 'yes', 'no'),\n",
              " ('189.202.188.149', '80', 'Mexico', 'no', 'no'),\n",
              " ('50.174.145.13', '80', 'United States', 'no', 'no'),\n",
              " ('198.49.68.80', '80', 'United States', 'no', 'no'),\n",
              " ('50.173.140.151', '80', 'United States', 'no', 'no'),\n",
              " ('50.239.72.16', '80', 'United States', 'yes', 'no'),\n",
              " ('198.176.56.39', '80', 'United States', 'no', 'no'),\n",
              " ('20.111.54.16', '8123', 'France', 'yes', 'no'),\n",
              " ('50.200.12.81', '80', 'United States', 'no', 'no'),\n",
              " ('82.119.96.254', '80', 'Slovakia', 'no', 'no'),\n",
              " ('50.172.75.124', '80', 'United States', 'no', 'no'),\n",
              " ('41.207.187.178', '80', 'Togo', 'no', 'no'),\n",
              " ('50.172.75.122', '80', 'United States', 'no', 'no'),\n",
              " ('50.218.57.68', '80', 'United States', 'no', 'no'),\n",
              " ('154.65.39.7', '80', 'Senegal', 'no', 'no'),\n",
              " ('50.168.72.117', '80', 'United States', 'no', 'no'),\n",
              " ('94.131.107.45', '3128', 'Netherlands', 'no', 'yes'),\n",
              " ('193.136.97.17', '80', 'Portugal', 'no', 'no'),\n",
              " ('213.157.6.50', '80', 'Germany', 'no', 'no'),\n",
              " ('50.174.7.155', '80', 'United States', 'no', 'no'),\n",
              " ('50.222.245.46', '80', 'United States', 'no', 'no'),\n",
              " ('192.210.200.8', '38080', 'Canada', 'no', 'yes'),\n",
              " ('80.13.43.193', '80', 'France', 'no', 'no'),\n",
              " ('50.206.111.90', '80', 'United States', 'no', 'no'),\n",
              " ('32.223.6.94', '80', 'United States', 'no', 'no'),\n",
              " ('35.207.123.94', '80', 'Germany', 'no', 'no'),\n",
              " ('50.174.145.12', '80', 'United States', 'no', 'no'),\n",
              " ('46.198.132.232', '21231', 'Greece', 'no', 'no'),\n",
              " ('103.66.10.101', '8080', 'India', 'no', 'no'),\n",
              " ('103.78.171.10', '82', 'India', 'no', 'no'),\n",
              " ('202.154.36.83', '1111', 'Indonesia', 'no', 'no'),\n",
              " ('182.253.147.27', '8080', 'Indonesia', 'no', 'no'),\n",
              " ('103.165.157.87', '8080', 'Indonesia', 'no', 'no'),\n",
              " ('103.178.194.123', '1111', 'Indonesia', 'no', 'no'),\n",
              " ('2.187.188.239', '8083', 'Iran', 'no', 'no'),\n",
              " ('36.91.173.10', '8080', 'Indonesia', 'no', 'no'),\n",
              " ('203.175.100.133', '8080', 'Indonesia', 'no', 'no'),\n",
              " ('101.255.17.6', '8033', 'Indonesia', 'no', 'no'),\n",
              " ('20.121.139.25', '3128', 'United States', 'no', 'no'),\n",
              " ('14.143.145.35', '80', 'India', 'yes', 'no'),\n",
              " ('8.242.127.203', '999', 'Colombia', 'no', 'no'),\n",
              " ('61.7.138.244', '8080', 'Thailand', 'no', 'no'),\n",
              " ('188.132.222.166', '8080', 'Turkey', 'no', 'no'),\n",
              " ('202.191.127.21', '8090', 'Bangladesh', 'no', 'no'),\n",
              " ('187.87.206.97', '3128', 'Brazil', 'no', 'no'),\n",
              " ('37.120.192.154', '8080', 'Netherlands', 'no', 'no'),\n",
              " ('50.207.199.82', '80', 'United States', 'no', 'no'),\n",
              " ('89.36.114.38', '80', 'United Kingdom', 'no', 'no'),\n",
              " ('50.175.212.74', '80', 'United States', 'no', 'no'),\n",
              " ('50.223.38.6', '80', 'United States', 'no', 'no'),\n",
              " ('50.230.222.202', '80', 'United States', 'no', 'no'),\n",
              " ('50.172.75.126', '80', 'United States', 'no', 'no'),\n",
              " ('117.54.114.102', '80', 'Indonesia', 'no', 'no'),\n",
              " ('50.219.244.6', '80', 'United States', 'no', 'no'),\n",
              " ('219.93.101.60', '80', 'Malaysia', 'no', 'no'),\n",
              " ('127.0.0.7', '80', 'Unknown', 'no', 'no'),\n",
              " ('50.217.226.41', '80', 'United States', 'no', 'no'),\n",
              " ('50.206.111.91', '80', 'United States', 'no', 'no'),\n",
              " ('50.173.140.144', '80', 'United States', 'no', 'no'),\n",
              " ('50.222.245.41', '80', 'United States', 'no', 'no'),\n",
              " ('50.170.90.30', '80', 'United States', 'no', 'no'),\n",
              " ('50.170.90.24', '80', 'United States', 'no', 'no'),\n",
              " ('0.0.0.0', '80', 'Unknown', 'no', 'no'),\n",
              " ('20.219.177.38', '3129', 'India', 'no', 'yes'),\n",
              " ('50.231.104.58', '80', 'United States', 'no', 'no'),\n",
              " ('50.207.199.86', '80', 'United States', 'no', 'no'),\n",
              " ('50.174.145.9', '80', 'United States', 'no', 'no'),\n",
              " ('50.207.199.80', '80', 'United States', 'no', 'no'),\n",
              " ('195.114.209.50', '80', 'Spain', 'no', 'no'),\n",
              " ('50.218.57.66', '80', 'United States', 'no', 'no'),\n",
              " ('50.231.110.26', '80', 'United States', 'no', 'no'),\n",
              " ('50.217.226.40', '80', 'United States', 'no', 'no'),\n",
              " ('50.170.90.31', '80', 'United States', 'no', 'no'),\n",
              " ('50.168.72.113', '80', 'United States', 'no', 'no'),\n",
              " ('50.170.90.34', '80', 'United States', 'no', 'no'),\n",
              " ('41.89.16.6', '80', 'Kenya', 'no', 'no'),\n",
              " ('50.172.23.10', '80', 'United States', 'no', 'no'),\n",
              " ('50.206.111.89', '80', 'United States', 'no', 'no'),\n",
              " ('50.235.240.86', '80', 'United States', 'no', 'no'),\n",
              " ('156.67.214.232', '80', 'Singapore', 'no', 'no'),\n",
              " ('50.172.75.121', '80', 'United States', 'no', 'no'),\n",
              " ('164.90.184.248', '80', 'Germany', 'no', 'no'),\n",
              " ('80.228.235.6', '80', 'Germany', 'no', 'no'),\n",
              " ('50.168.210.232', '80', 'United States', 'no', 'no'),\n",
              " ('50.174.7.162', '80', 'United States', 'no', 'no'),\n",
              " ('50.174.41.66', '80', 'United States', 'no', 'no'),\n",
              " ('197.243.20.186', '80', 'Rwanda', 'no', 'no'),\n",
              " ('211.128.96.206', '80', 'Japan', 'no', 'no'),\n",
              " ('50.168.163.183', '80', 'United States', 'no', 'no'),\n",
              " ('50.239.72.18', '80', 'United States', 'no', 'no'),\n",
              " ('50.174.7.158', '80', 'United States', 'no', 'no'),\n",
              " ('50.222.245.43', '80', 'United States', 'no', 'no')]"
            ]
          },
          "metadata": {},
          "execution_count": 35
        }
      ]
    },
    {
      "cell_type": "code",
      "source": [
        "working_proxies = []\n",
        "\n",
        "for proxy in proxies:\n",
        "    ip_address = f'http://{proxy[0]}:{proxy[1]}'\n",
        "    try:\n",
        "        response = session.get('https://httpbin.org/ip', proxies={'http': ip_address, 'https': ip_address}, timeout=1)\n",
        "        working_proxies.append(ip_address)\n",
        "        print(f'{ip_address} is working!')\n",
        "    except Exception as e:\n",
        "        pass"
      ],
      "metadata": {
        "colab": {
          "base_uri": "https://localhost:8080/"
        },
        "id": "2Uc6ykksPpA1",
        "outputId": "4f65ad1c-86b5-4fc9-c1a4-ba2562f5c0b9"
      },
      "execution_count": null,
      "outputs": [
        {
          "output_type": "stream",
          "name": "stdout",
          "text": [
            "http://20.210.113.32:80 is working!\n",
            "http://20.24.43.214:80 is working!\n",
            "http://20.206.106.192:80 is working!\n",
            "http://20.205.61.143:80 is working!\n",
            "http://20.111.54.16:8123 is working!\n"
          ]
        }
      ]
    },
    {
      "cell_type": "code",
      "source": [
        "from concurrent.futures import ThreadPoolExecutor"
      ],
      "metadata": {
        "id": "GnNXVdaCPxdf"
      },
      "execution_count": null,
      "outputs": []
    },
    {
      "cell_type": "code",
      "source": [
        "def fetch_proxies() -> list:\n",
        "    response = session.get('https://free-proxy-list.net')\n",
        "    proxy_table = response.html.xpath('.//table[@class=\"table table-striped table-bordered\"]', first=True)\n",
        "    ip_address = proxy_table.xpath('//td[1]/text()')\n",
        "    port = proxy_table.xpath('//td[2]/text()')\n",
        "    country = proxy_table.xpath('//td[4]/text()')\n",
        "    google = proxy_table.xpath('//td[6]/text()')\n",
        "    https = proxy_table.xpath('//td[7]/text()')\n",
        "\n",
        "    return list(zip(ip_address, port, country, google, https))"
      ],
      "metadata": {
        "id": "vM281JytQM3C"
      },
      "execution_count": null,
      "outputs": []
    },
    {
      "cell_type": "code",
      "source": [
        "def test_proxy(proxy: tuple) -> bool:\n",
        "    ip_address = f'http://{proxy[0]}:{proxy[1]}'\n",
        "    try:\n",
        "        response = session.get('https://httpbin.org/ip', proxies={'http': ip_address, 'https': ip_address}, timeout=1)\n",
        "        return ip_address\n",
        "    except Exception as e:\n",
        "        pass"
      ],
      "metadata": {
        "id": "hN5tKtdwYHfa"
      },
      "execution_count": null,
      "outputs": []
    },
    {
      "cell_type": "code",
      "source": [
        "with ThreadPoolExecutor(max_workers=30) as executor:\n",
        "    print(list(executor.map(test_proxy, fetch_proxies())))\n"
      ],
      "metadata": {
        "colab": {
          "base_uri": "https://localhost:8080/"
        },
        "id": "rbEBiy-EZV6G",
        "outputId": "f99b2321-06d3-46b3-b2c0-8c1f0918e494"
      },
      "execution_count": null,
      "outputs": [
        {
          "output_type": "stream",
          "name": "stdout",
          "text": [
            "[None, None, None, None, None, None, None, None, None, None, None, None, None, None, None, None, None, None, None, None, None, None, None, None, None, None, None, None, None, None, None, None, None, None, None, None, None, None, None, None, None, None, None, None, None, None, None, None, None, None, None, None, None, None, None, None, None, None, None, None, None, None, None, None, None, None, None, None, None, None, None, None, None, None, None, None, None, None, None, None, None, None, None, None, None, None, None, None, None, None, None, None, None, None, None, None, None, None, None, None, None, None, None, None, None, None, None, None, None, None, None, None, None, None, None, None, None, None, None, None, None, None, None, None, None, None, None, None, None, None, None, None, None, None, None, None, None, None, None, None, None, None, None, None, None, None, None, None, None, None, None, None, None, None, None, None, None, None, None, None, None, None, None, None, None, None, None, None, None, None, None, None, None, None, None, None, None, None, None, None, None, None, None, None, None, None, None, None, None, None, None, None, None, None, None, None, None, None, None, None, None, None, None, None, None, None, None, None, None, None, None, None, None, None, None, None, None, None, None, None, None, None, None, None, None, None, None, None, None, None, None, None, None, None, None, None, None, None, None, None, None, None, None, None, None, None, None, None, None, None, None, None, None, None, None, None, None, None, None, None, None, None, None]\n"
          ]
        }
      ]
    },
    {
      "cell_type": "code",
      "source": [
        "def crawl(func):\n",
        "    def wrapper(**kwargs):\n",
        "        params = func(**kwargs)\n",
        "        # print(params)\n",
        "        # print(params['urls'])\n",
        "        results = []\n",
        "\n",
        "        for url in params['urls']:\n",
        "            response = session.get(url)\n",
        "            result = params['parser'](response)\n",
        "            print(f'{url} results is:', result)\n",
        "            print('------------------------------------------')\n",
        "            results.extend(result)\n",
        "            if not params['condition'](result):\n",
        "                break\n",
        "\n",
        "        return results\n",
        "\n",
        "    return wrapper"
      ],
      "metadata": {
        "id": "uSPXXCW6Zck6"
      },
      "execution_count": null,
      "outputs": []
    },
    {
      "cell_type": "code",
      "source": [
        "@crawl\n",
        "def fetch_articles(**kwargs):\n",
        "    query = build_query(**kwargs)\n",
        "    urls = [f'https://scholar.google.com/scholar?hl=en&as_sdt=0,5&{query}&start={i}' for i in range(0, 1000, 10)]\n",
        "\n",
        "    def parser(response):\n",
        "        articles = response.html.xpath('.//div[@class=\"gs_r gs_or gs_scl\"]')\n",
        "        results = []\n",
        "\n",
        "        for article in articles:\n",
        "            title = article.xpath('.//h3[@class=\"gs_rt\"]/a | .//h3[@class=\"gs_rt\"]/span[2]', first=True).text\n",
        "            authors = article.xpath('.//div[@class=\"gs_a\"]', first=True).text\n",
        "            source = article.xpath('.//h3[@class=\"gs_rt\"]/a/@href', first=True)\n",
        "            paper = article.xpath('.//div[@class=\"gs_or_ggsm\"]/a/@href', first=True)\n",
        "            citations = article.xpath('.//div[@class=\"gs_ri\"]/div[@class=\"gs_fl\"]/a[3]', first=True).text\n",
        "\n",
        "            results.append({\n",
        "                'title': title,\n",
        "                'authors': authors,\n",
        "                'source': source,\n",
        "                'paper': paper,\n",
        "                'citations': citations,\n",
        "            })\n",
        "        return results\n",
        "\n",
        "    def condition(result):\n",
        "        if len(result) != 10:\n",
        "            return False\n",
        "        return True\n",
        "\n",
        "    return {\n",
        "        'urls': urls,\n",
        "        'parser': parser,\n",
        "        'condition': condition,\n",
        "    }"
      ],
      "metadata": {
        "id": "4clH4NYLZiMp"
      },
      "execution_count": null,
      "outputs": []
    },
    {
      "cell_type": "code",
      "source": [
        "articles = fetch_articles(keywords='history', languages=['en'])\n",
        "articles"
      ],
      "metadata": {
        "id": "TArse-5BZnre",
        "outputId": "66dc12b9-0d41-48c7-aa85-1697a206bf5f",
        "colab": {
          "base_uri": "https://localhost:8080/"
        }
      },
      "execution_count": null,
      "outputs": [
        {
          "output_type": "stream",
          "name": "stdout",
          "text": [
            "https://scholar.google.com/scholar?hl=en&as_sdt=0,5&q=history&as_ylo=None&as_yhi=None&lr=lang_en&start=0 results is: []\n",
            "------------------------------------------\n"
          ]
        },
        {
          "output_type": "execute_result",
          "data": {
            "text/plain": [
              "[]"
            ]
          },
          "metadata": {},
          "execution_count": 45
        }
      ]
    },
    {
      "cell_type": "code",
      "source": [],
      "metadata": {
        "id": "PnBPaphpZp8Z"
      },
      "execution_count": null,
      "outputs": []
    }
  ]
}