{
  "cells": [
    {
      "cell_type": "markdown",
      "metadata": {
        "id": "view-in-github",
        "colab_type": "text"
      },
      "source": [
        "<a href=\"https://colab.research.google.com/github/kashindra-mahato/NLP/blob/main/MRKLAgent_(api_keys_required).ipynb\" target=\"_parent\"><img src=\"https://colab.research.google.com/assets/colab-badge.svg\" alt=\"Open In Colab\"/></a>"
      ]
    },
    {
      "cell_type": "markdown",
      "metadata": {
        "id": "h8gcxwg4sAXd"
      },
      "source": [
        "# MRKLAgent Draft\n",
        "\n",
        "- Proposal PR on GitHub: https://github.com/deepset-ai/haystack/pull/3925\n",
        "\n"
      ]
    },
    {
      "cell_type": "markdown",
      "metadata": {
        "collapsed": false,
        "id": "ifCja5PasAXf"
      },
      "source": [
        "## Overview\n",
        "\n",
        "The MRKLAgent class answers queries by choosing between different actions/tools, which are implemented as pipelines.\n",
        "It uses a large language model (LLM) to generate a thought based on the query, choose an action/tool, and generate the input for the action/tool.\n",
        "Based on the result returned by an action/tool, the MRKLAgent has two options.\n",
        "It can either repeat the process of 1) thought, 2) action choice, 3) action input or it stops if it knows the answer."
      ]
    },
    {
      "cell_type": "markdown",
      "metadata": {
        "id": "kn47_SD-sAXg"
      },
      "source": [
        "## Installing Haystack\n",
        "\n",
        "To start, let's install the latest release of Haystack with `pip`:"
      ]
    },
    {
      "cell_type": "code",
      "execution_count": null,
      "metadata": {
        "id": "A5_XfePisAXg",
        "colab": {
          "base_uri": "https://localhost:8080/"
        },
        "outputId": "d8ba41aa-63df-408c-c085-d7d2d9723f6f"
      },
      "outputs": [
        {
          "output_type": "stream",
          "name": "stdout",
          "text": [
            "Looking in indexes: https://pypi.org/simple, https://us-python.pkg.dev/colab-wheels/public/simple/\n",
            "Requirement already satisfied: pip in /usr/local/lib/python3.8/dist-packages (22.3.1)\n",
            "Looking in indexes: https://pypi.org/simple, https://us-python.pkg.dev/colab-wheels/public/simple/\n",
            "Collecting farm-haystack[colab]\n",
            "  Cloning https://github.com/deepset-ai/haystack.git (to revision mrkl-pipeline) to /tmp/pip-install-gmuy360v/farm-haystack_58d712eafaa5472cb680145ba23eebd1\n",
            "  Resolved https://github.com/deepset-ai/haystack.git to commit c7373b53d73639f498352f83a1e3f03d4b2985f0\n",
            "  Installing build dependencies: started\n",
            "  Installing build dependencies: finished with status 'done'\n",
            "  Getting requirements to build wheel: started\n",
            "  Getting requirements to build wheel: finished with status 'done'\n",
            "  Preparing metadata (pyproject.toml): started\n",
            "  Preparing metadata (pyproject.toml): finished with status 'done'\n",
            "Requirement already satisfied: quantulum3 in /usr/local/lib/python3.8/dist-packages (from farm-haystack[colab]) (0.8.1)\n",
            "Requirement already satisfied: pandas in /usr/local/lib/python3.8/dist-packages (from farm-haystack[colab]) (1.3.5)\n",
            "Requirement already satisfied: elasticsearch<8,>=7.7 in /usr/local/lib/python3.8/dist-packages (from farm-haystack[colab]) (7.17.8)\n",
            "Requirement already satisfied: langdetect in /usr/local/lib/python3.8/dist-packages (from farm-haystack[colab]) (1.0.9)\n",
            "Requirement already satisfied: scipy>=1.3.2 in /usr/local/lib/python3.8/dist-packages (from farm-haystack[colab]) (1.7.3)\n",
            "Requirement already satisfied: more-itertools in /usr/local/lib/python3.8/dist-packages (from farm-haystack[colab]) (9.0.0)\n",
            "Requirement already satisfied: scikit-learn>=1.0.0 in /usr/local/lib/python3.8/dist-packages (from farm-haystack[colab]) (1.0.2)\n",
            "Requirement already satisfied: python-docx in /usr/local/lib/python3.8/dist-packages (from farm-haystack[colab]) (0.8.11)\n",
            "Requirement already satisfied: nltk in /usr/local/lib/python3.8/dist-packages (from farm-haystack[colab]) (3.7)\n",
            "Requirement already satisfied: tika in /usr/local/lib/python3.8/dist-packages (from farm-haystack[colab]) (2.6.0)\n",
            "Requirement already satisfied: rapidfuzz<2.8.0,>=2.0.15 in /usr/local/lib/python3.8/dist-packages (from farm-haystack[colab]) (2.7.0)\n",
            "Requirement already satisfied: azure-ai-formrecognizer>=3.2.0b2 in /usr/local/lib/python3.8/dist-packages (from farm-haystack[colab]) (3.2.0)\n",
            "Requirement already satisfied: transformers[torch]==4.25.1 in /usr/local/lib/python3.8/dist-packages (from farm-haystack[colab]) (4.25.1)\n",
            "Requirement already satisfied: mmh3 in /usr/local/lib/python3.8/dist-packages (from farm-haystack[colab]) (3.0.0)\n",
            "Requirement already satisfied: requests in /usr/local/lib/python3.8/dist-packages (from farm-haystack[colab]) (2.28.2)\n",
            "Requirement already satisfied: seqeval in /usr/local/lib/python3.8/dist-packages (from farm-haystack[colab]) (1.2.2)\n",
            "Requirement already satisfied: mlflow in /usr/local/lib/python3.8/dist-packages (from farm-haystack[colab]) (2.1.1)\n",
            "Requirement already satisfied: dill in /usr/local/lib/python3.8/dist-packages (from farm-haystack[colab]) (0.3.6)\n",
            "Requirement already satisfied: sentence-transformers>=2.2.0 in /usr/local/lib/python3.8/dist-packages (from farm-haystack[colab]) (2.2.2)\n",
            "Requirement already satisfied: rank-bm25 in /usr/local/lib/python3.8/dist-packages (from farm-haystack[colab]) (0.2.2)\n",
            "Requirement already satisfied: pydantic in /usr/local/lib/python3.8/dist-packages (from farm-haystack[colab]) (1.10.4)\n",
            "Requirement already satisfied: huggingface-hub>=0.5.0 in /usr/local/lib/python3.8/dist-packages (from farm-haystack[colab]) (0.11.1)\n",
            "Requirement already satisfied: jsonschema in /usr/local/lib/python3.8/dist-packages (from farm-haystack[colab]) (4.3.3)\n",
            "Requirement already satisfied: tqdm in /usr/local/lib/python3.8/dist-packages (from farm-haystack[colab]) (4.64.1)\n",
            "Requirement already satisfied: posthog in /usr/local/lib/python3.8/dist-packages (from farm-haystack[colab]) (2.2.0)\n",
            "Requirement already satisfied: protobuf<=3.20.2 in /usr/local/lib/python3.8/dist-packages (from farm-haystack[colab]) (3.19.6)\n",
            "Requirement already satisfied: networkx in /usr/local/lib/python3.8/dist-packages (from farm-haystack[colab]) (3.0)\n",
            "Requirement already satisfied: pillow<=9.0.0 in /usr/local/lib/python3.8/dist-packages (from farm-haystack[colab]) (7.1.2)\n",
            "Requirement already satisfied: regex!=2019.12.17 in /usr/local/lib/python3.8/dist-packages (from transformers[torch]==4.25.1->farm-haystack[colab]) (2022.6.2)\n",
            "Requirement already satisfied: tokenizers!=0.11.3,<0.14,>=0.11.1 in /usr/local/lib/python3.8/dist-packages (from transformers[torch]==4.25.1->farm-haystack[colab]) (0.13.2)\n",
            "Requirement already satisfied: numpy>=1.17 in /usr/local/lib/python3.8/dist-packages (from transformers[torch]==4.25.1->farm-haystack[colab]) (1.21.6)\n",
            "Requirement already satisfied: packaging>=20.0 in /usr/local/lib/python3.8/dist-packages (from transformers[torch]==4.25.1->farm-haystack[colab]) (21.3)\n",
            "Requirement already satisfied: filelock in /usr/local/lib/python3.8/dist-packages (from transformers[torch]==4.25.1->farm-haystack[colab]) (3.9.0)\n",
            "Requirement already satisfied: pyyaml>=5.1 in /usr/local/lib/python3.8/dist-packages (from transformers[torch]==4.25.1->farm-haystack[colab]) (6.0)\n",
            "Requirement already satisfied: torch!=1.12.0,>=1.7 in /usr/local/lib/python3.8/dist-packages (from transformers[torch]==4.25.1->farm-haystack[colab]) (1.13.1+cu116)\n",
            "Requirement already satisfied: typing-extensions>=4.0.1 in /usr/local/lib/python3.8/dist-packages (from azure-ai-formrecognizer>=3.2.0b2->farm-haystack[colab]) (4.4.0)\n",
            "Requirement already satisfied: azure-core<2.0.0,>=1.23.0 in /usr/local/lib/python3.8/dist-packages (from azure-ai-formrecognizer>=3.2.0b2->farm-haystack[colab]) (1.26.2)\n",
            "Requirement already satisfied: msrest>=0.6.21 in /usr/local/lib/python3.8/dist-packages (from azure-ai-formrecognizer>=3.2.0b2->farm-haystack[colab]) (0.7.1)\n",
            "Requirement already satisfied: azure-common~=1.1 in /usr/local/lib/python3.8/dist-packages (from azure-ai-formrecognizer>=3.2.0b2->farm-haystack[colab]) (1.1.28)\n",
            "Requirement already satisfied: urllib3<2,>=1.21.1 in /usr/local/lib/python3.8/dist-packages (from elasticsearch<8,>=7.7->farm-haystack[colab]) (1.26.14)\n",
            "Requirement already satisfied: certifi in /usr/local/lib/python3.8/dist-packages (from elasticsearch<8,>=7.7->farm-haystack[colab]) (2022.12.7)\n",
            "Requirement already satisfied: jarowinkler<2.0.0,>=1.2.0 in /usr/local/lib/python3.8/dist-packages (from rapidfuzz<2.8.0,>=2.0.15->farm-haystack[colab]) (1.2.3)\n",
            "Requirement already satisfied: threadpoolctl>=2.0.0 in /usr/local/lib/python3.8/dist-packages (from scikit-learn>=1.0.0->farm-haystack[colab]) (3.1.0)\n",
            "Requirement already satisfied: joblib>=0.11 in /usr/local/lib/python3.8/dist-packages (from scikit-learn>=1.0.0->farm-haystack[colab]) (1.2.0)\n",
            "Requirement already satisfied: torchvision in /usr/local/lib/python3.8/dist-packages (from sentence-transformers>=2.2.0->farm-haystack[colab]) (0.14.1+cu116)\n",
            "Requirement already satisfied: sentencepiece in /usr/local/lib/python3.8/dist-packages (from sentence-transformers>=2.2.0->farm-haystack[colab]) (0.1.97)\n",
            "Requirement already satisfied: pyrsistent!=0.17.0,!=0.17.1,!=0.17.2,>=0.14.0 in /usr/local/lib/python3.8/dist-packages (from jsonschema->farm-haystack[colab]) (0.19.3)\n",
            "Requirement already satisfied: attrs>=17.4.0 in /usr/local/lib/python3.8/dist-packages (from jsonschema->farm-haystack[colab]) (22.2.0)\n",
            "Requirement already satisfied: importlib-resources>=1.4.0 in /usr/local/lib/python3.8/dist-packages (from jsonschema->farm-haystack[colab]) (5.10.2)\n",
            "Requirement already satisfied: six in /usr/local/lib/python3.8/dist-packages (from langdetect->farm-haystack[colab]) (1.15.0)\n",
            "Requirement already satisfied: docker<7,>=4.0.0 in /usr/local/lib/python3.8/dist-packages (from mlflow->farm-haystack[colab]) (6.0.1)\n",
            "Requirement already satisfied: alembic<2 in /usr/local/lib/python3.8/dist-packages (from mlflow->farm-haystack[colab]) (1.9.2)\n",
            "Requirement already satisfied: matplotlib<4 in /usr/local/lib/python3.8/dist-packages (from mlflow->farm-haystack[colab]) (3.2.2)\n",
            "Requirement already satisfied: gunicorn<21 in /usr/local/lib/python3.8/dist-packages (from mlflow->farm-haystack[colab]) (20.1.0)\n",
            "Requirement already satisfied: shap<1,>=0.40 in /usr/local/lib/python3.8/dist-packages (from mlflow->farm-haystack[colab]) (0.41.0)\n",
            "Requirement already satisfied: entrypoints<1 in /usr/local/lib/python3.8/dist-packages (from mlflow->farm-haystack[colab]) (0.4)\n",
            "Requirement already satisfied: markdown<4,>=3.3 in /usr/local/lib/python3.8/dist-packages (from mlflow->farm-haystack[colab]) (3.4.1)\n",
            "Requirement already satisfied: pyarrow<11,>=4.0.0 in /usr/local/lib/python3.8/dist-packages (from mlflow->farm-haystack[colab]) (9.0.0)\n",
            "Requirement already satisfied: Jinja2<4,>=2.11 in /usr/local/lib/python3.8/dist-packages (from mlflow->farm-haystack[colab]) (2.11.3)\n",
            "Requirement already satisfied: cloudpickle<3 in /usr/local/lib/python3.8/dist-packages (from mlflow->farm-haystack[colab]) (2.2.0)\n",
            "Requirement already satisfied: sqlalchemy<2,>=1.4.0 in /usr/local/lib/python3.8/dist-packages (from mlflow->farm-haystack[colab]) (1.4.46)\n",
            "Requirement already satisfied: databricks-cli<1,>=0.8.7 in /usr/local/lib/python3.8/dist-packages (from mlflow->farm-haystack[colab]) (0.17.4)\n",
            "Requirement already satisfied: querystring-parser<2 in /usr/local/lib/python3.8/dist-packages (from mlflow->farm-haystack[colab]) (1.2.4)\n",
            "Requirement already satisfied: click<9,>=7.0 in /usr/local/lib/python3.8/dist-packages (from mlflow->farm-haystack[colab]) (7.1.2)\n",
            "Requirement already satisfied: gitpython<4,>=2.1.0 in /usr/local/lib/python3.8/dist-packages (from mlflow->farm-haystack[colab]) (3.1.30)\n",
            "Requirement already satisfied: importlib-metadata!=4.7.0,<6,>=3.7.0 in /usr/local/lib/python3.8/dist-packages (from mlflow->farm-haystack[colab]) (5.2.0)\n",
            "Requirement already satisfied: Flask<3 in /usr/local/lib/python3.8/dist-packages (from mlflow->farm-haystack[colab]) (1.1.4)\n",
            "Requirement already satisfied: sqlparse<1,>=0.4.0 in /usr/local/lib/python3.8/dist-packages (from mlflow->farm-haystack[colab]) (0.4.3)\n",
            "Requirement already satisfied: pytz<2023 in /usr/local/lib/python3.8/dist-packages (from mlflow->farm-haystack[colab]) (2022.7)\n",
            "Requirement already satisfied: python-dateutil>=2.7.3 in /usr/local/lib/python3.8/dist-packages (from pandas->farm-haystack[colab]) (2.8.2)\n",
            "Requirement already satisfied: idna<4,>=2.5 in /usr/local/lib/python3.8/dist-packages (from requests->farm-haystack[colab]) (2.10)\n",
            "Requirement already satisfied: charset-normalizer<4,>=2 in /usr/local/lib/python3.8/dist-packages (from requests->farm-haystack[colab]) (2.1.1)\n",
            "Requirement already satisfied: backoff<2.0.0,>=1.10.0 in /usr/local/lib/python3.8/dist-packages (from posthog->farm-haystack[colab]) (1.11.1)\n",
            "Requirement already satisfied: monotonic>=1.5 in /usr/local/lib/python3.8/dist-packages (from posthog->farm-haystack[colab]) (1.6)\n",
            "Requirement already satisfied: lxml>=2.3.2 in /usr/local/lib/python3.8/dist-packages (from python-docx->farm-haystack[colab]) (4.9.2)\n",
            "Requirement already satisfied: inflect in /usr/local/lib/python3.8/dist-packages (from quantulum3->farm-haystack[colab]) (2.1.0)\n",
            "Requirement already satisfied: num2words in /usr/local/lib/python3.8/dist-packages (from quantulum3->farm-haystack[colab]) (0.5.12)\n",
            "Requirement already satisfied: setuptools in /usr/local/lib/python3.8/dist-packages (from tika->farm-haystack[colab]) (57.4.0)\n",
            "Requirement already satisfied: Mako in /usr/local/lib/python3.8/dist-packages (from alembic<2->mlflow->farm-haystack[colab]) (1.2.4)\n",
            "Requirement already satisfied: pyjwt>=1.7.0 in /usr/local/lib/python3.8/dist-packages (from databricks-cli<1,>=0.8.7->mlflow->farm-haystack[colab]) (2.6.0)\n",
            "Requirement already satisfied: tabulate>=0.7.7 in /usr/local/lib/python3.8/dist-packages (from databricks-cli<1,>=0.8.7->mlflow->farm-haystack[colab]) (0.8.10)\n",
            "Requirement already satisfied: oauthlib>=3.1.0 in /usr/local/lib/python3.8/dist-packages (from databricks-cli<1,>=0.8.7->mlflow->farm-haystack[colab]) (3.2.2)\n",
            "Requirement already satisfied: websocket-client>=0.32.0 in /usr/local/lib/python3.8/dist-packages (from docker<7,>=4.0.0->mlflow->farm-haystack[colab]) (1.4.2)\n",
            "Requirement already satisfied: Werkzeug<2.0,>=0.15 in /usr/local/lib/python3.8/dist-packages (from Flask<3->mlflow->farm-haystack[colab]) (1.0.1)\n",
            "Requirement already satisfied: itsdangerous<2.0,>=0.24 in /usr/local/lib/python3.8/dist-packages (from Flask<3->mlflow->farm-haystack[colab]) (1.1.0)\n",
            "Requirement already satisfied: gitdb<5,>=4.0.1 in /usr/local/lib/python3.8/dist-packages (from gitpython<4,>=2.1.0->mlflow->farm-haystack[colab]) (4.0.10)\n",
            "Requirement already satisfied: zipp>=0.5 in /usr/local/lib/python3.8/dist-packages (from importlib-metadata!=4.7.0,<6,>=3.7.0->mlflow->farm-haystack[colab]) (3.11.0)\n",
            "Requirement already satisfied: MarkupSafe>=0.23 in /usr/local/lib/python3.8/dist-packages (from Jinja2<4,>=2.11->mlflow->farm-haystack[colab]) (2.0.1)\n",
            "Requirement already satisfied: cycler>=0.10 in /usr/local/lib/python3.8/dist-packages (from matplotlib<4->mlflow->farm-haystack[colab]) (0.11.0)\n",
            "Requirement already satisfied: pyparsing!=2.0.4,!=2.1.2,!=2.1.6,>=2.0.1 in /usr/local/lib/python3.8/dist-packages (from matplotlib<4->mlflow->farm-haystack[colab]) (3.0.9)\n",
            "Requirement already satisfied: kiwisolver>=1.0.1 in /usr/local/lib/python3.8/dist-packages (from matplotlib<4->mlflow->farm-haystack[colab]) (1.4.4)\n",
            "Requirement already satisfied: isodate>=0.6.0 in /usr/local/lib/python3.8/dist-packages (from msrest>=0.6.21->azure-ai-formrecognizer>=3.2.0b2->farm-haystack[colab]) (0.6.1)\n",
            "Requirement already satisfied: requests-oauthlib>=0.5.0 in /usr/local/lib/python3.8/dist-packages (from msrest>=0.6.21->azure-ai-formrecognizer>=3.2.0b2->farm-haystack[colab]) (1.3.1)\n",
            "Requirement already satisfied: numba in /usr/local/lib/python3.8/dist-packages (from shap<1,>=0.40->mlflow->farm-haystack[colab]) (0.56.4)\n",
            "Requirement already satisfied: slicer==0.0.7 in /usr/local/lib/python3.8/dist-packages (from shap<1,>=0.40->mlflow->farm-haystack[colab]) (0.0.7)\n",
            "Requirement already satisfied: greenlet!=0.4.17 in /usr/local/lib/python3.8/dist-packages (from sqlalchemy<2,>=1.4.0->mlflow->farm-haystack[colab]) (2.0.1)\n",
            "Requirement already satisfied: docopt>=0.6.2 in /usr/local/lib/python3.8/dist-packages (from num2words->quantulum3->farm-haystack[colab]) (0.6.2)\n",
            "Requirement already satisfied: smmap<6,>=3.0.1 in /usr/local/lib/python3.8/dist-packages (from gitdb<5,>=4.0.1->gitpython<4,>=2.1.0->mlflow->farm-haystack[colab]) (5.0.0)\n",
            "Requirement already satisfied: llvmlite<0.40,>=0.39.0dev0 in /usr/local/lib/python3.8/dist-packages (from numba->shap<1,>=0.40->mlflow->farm-haystack[colab]) (0.39.1)\n"
          ]
        },
        {
          "output_type": "stream",
          "name": "stderr",
          "text": [
            "WARNING: Running pip as the 'root' user can result in broken permissions and conflicting behaviour with the system package manager. It is recommended to use a virtual environment instead: https://pip.pypa.io/warnings/venv\n",
            "  Running command git clone --filter=blob:none --quiet https://github.com/deepset-ai/haystack.git /tmp/pip-install-gmuy360v/farm-haystack_58d712eafaa5472cb680145ba23eebd1\n",
            "  Running command git checkout -b mrkl-pipeline --track origin/mrkl-pipeline\n",
            "  Switched to a new branch 'mrkl-pipeline'\n",
            "  Branch 'mrkl-pipeline' set up to track remote branch 'mrkl-pipeline' from 'origin'.\n",
            "WARNING: Running pip as the 'root' user can result in broken permissions and conflicting behaviour with the system package manager. It is recommended to use a virtual environment instead: https://pip.pypa.io/warnings/venv\n"
          ]
        }
      ],
      "source": [
        "%%bash\n",
        "\n",
        "pip install --upgrade pip\n",
        "pip install git+https://github.com/deepset-ai/haystack.git@mrkl-pipeline#egg=farm-haystack[colab]"
      ]
    },
    {
      "cell_type": "code",
      "source": [
        "%%bash\n",
        "\n",
        "pip install google-search-results"
      ],
      "metadata": {
        "colab": {
          "base_uri": "https://localhost:8080/"
        },
        "id": "ofy1TtyLs1_g",
        "outputId": "77c26e15-3895-4082-85e1-e7c5e93424f5"
      },
      "execution_count": null,
      "outputs": [
        {
          "output_type": "stream",
          "name": "stdout",
          "text": [
            "Looking in indexes: https://pypi.org/simple, https://us-python.pkg.dev/colab-wheels/public/simple/\n",
            "Requirement already satisfied: google-search-results in /usr/local/lib/python3.8/dist-packages (2.4.1)\n",
            "Requirement already satisfied: requests in /usr/local/lib/python3.8/dist-packages (from google-search-results) (2.28.2)\n",
            "Requirement already satisfied: certifi>=2017.4.17 in /usr/local/lib/python3.8/dist-packages (from requests->google-search-results) (2022.12.7)\n",
            "Requirement already satisfied: idna<4,>=2.5 in /usr/local/lib/python3.8/dist-packages (from requests->google-search-results) (2.10)\n",
            "Requirement already satisfied: charset-normalizer<4,>=2 in /usr/local/lib/python3.8/dist-packages (from requests->google-search-results) (2.1.1)\n",
            "Requirement already satisfied: urllib3<1.27,>=1.21.1 in /usr/local/lib/python3.8/dist-packages (from requests->google-search-results) (1.26.14)\n"
          ]
        },
        {
          "output_type": "stream",
          "name": "stderr",
          "text": [
            "WARNING: Running pip as the 'root' user can result in broken permissions and conflicting behaviour with the system package manager. It is recommended to use a virtual environment instead: https://pip.pypa.io/warnings/venv\n"
          ]
        }
      ]
    },
    {
      "cell_type": "markdown",
      "metadata": {
        "id": "s5RGKEgGsAXh"
      },
      "source": [
        "Set the logging level to INFO:"
      ]
    },
    {
      "cell_type": "code",
      "execution_count": null,
      "metadata": {
        "id": "dCLBdwjlsAXh"
      },
      "outputs": [],
      "source": [
        "import logging\n",
        "\n",
        "logging.basicConfig(format=\"%(levelname)s - %(name)s -  %(message)s\", level=logging.WARNING)\n",
        "logging.getLogger(\"haystack\").setLevel(logging.INFO)"
      ]
    },
    {
      "cell_type": "code",
      "source": [
        "openai_api_key = \"\"\n",
        "serp_api_key = \"\""
      ],
      "metadata": {
        "id": "kBkMr86vvl9h"
      },
      "execution_count": null,
      "outputs": []
    },
    {
      "cell_type": "code",
      "source": [
        "from haystack import Pipeline\n",
        "from haystack.nodes import SerpAPIComponent, PythonRuntime, PromptNode, PromptModel\n",
        "from haystack.nodes.prompt.mrkl_agent import MRKLAgent"
      ],
      "metadata": {
        "id": "Ay9w39umzNkT"
      },
      "execution_count": null,
      "outputs": []
    },
    {
      "cell_type": "markdown",
      "metadata": {
        "id": "96wOm_dosAXi"
      },
      "source": [
        "## Loading a MRKLAgent from a YAML file\n",
        "\n",
        "A MRKLAgent can be defined together with its tools (pipelines) in a YAML file. This works just like pipelines in Haystack."
      ]
    },
    {
      "cell_type": "code",
      "execution_count": null,
      "metadata": {
        "id": "Gjlhs8eisAXi",
        "colab": {
          "base_uri": "https://localhost:8080/"
        },
        "outputId": "c31778dc-0b2a-4577-f78f-e78eeefa4add"
      },
      "outputs": [
        {
          "output_type": "stream",
          "name": "stderr",
          "text": [
            "INFO:haystack.pipelines.config:Missing definition for node of type MRKLAgent. Looking into local classes...\n",
            "INFO:haystack.nodes._json_schema:Added definition for MRKLAgent\n",
            "INFO:haystack.pipelines.config:Missing definition for node of type MRKLAgent. Looking into local classes...\n",
            "INFO:haystack.nodes._json_schema:Added definition for MRKLAgent\n",
            "INFO:haystack.pipelines.config:Missing definition for node of type MRKLAgent. Looking into local classes...\n",
            "INFO:haystack.nodes._json_schema:Added definition for MRKLAgent\n"
          ]
        }
      ],
      "source": [
        "\n",
        "with open(\"test.mrkl.haystack-pipeline.yml\", \"w\") as tmp_file:\n",
        "    tmp_file.write(\n",
        "        f\"\"\"\n",
        "        version: ignore\n",
        "        components:\n",
        "          - name: MRKLAgent\n",
        "            type: MRKLAgent\n",
        "            params:\n",
        "              prompt_node: MRKLAgentPromptNode\n",
        "              tools: [{{'pipeline_name': 'serpapi_pipeline', 'tool_name': 'Search', 'description': 'useful for when you need to answer questions about current events. You should ask targeted questions'}}, {{'pipeline_name': 'calculator_pipeline', 'tool_name': 'Calculator', 'description': 'useful for when you need to answer questions about math'}}]\n",
        "          - name: MRKLAgentPromptNode\n",
        "            type: PromptNode\n",
        "            params:\n",
        "              model_name_or_path: DavinciModel\n",
        "              stop_words: ['Observation:']\n",
        "          - name: DavinciModel\n",
        "            type: PromptModel\n",
        "            params:\n",
        "              model_name_or_path: 'text-davinci-003'\n",
        "              api_key: {openai_api_key}\n",
        "          - name: Serp\n",
        "            type: SerpAPIComponent\n",
        "            params:\n",
        "              api_key: {serp_api_key}\n",
        "          - name: CalculatorInput\n",
        "            type: PromptNode\n",
        "            params:\n",
        "              model_name_or_path: DavinciModel\n",
        "              default_prompt_template: CalculatorTemplate\n",
        "              output_variable: python_runtime_input\n",
        "          - name: Calculator\n",
        "            type: PythonRuntime\n",
        "          - name: CalculatorTemplate\n",
        "            type: PromptTemplate\n",
        "            params:\n",
        "              name: calculator\n",
        "              prompt_text:  |\n",
        "                  # Write a simple python function that calculates\n",
        "                  # $query\n",
        "                  # Do not print the result; invoke the function and assign the result to final_result variable\n",
        "                  # Start with import statement\n",
        "\n",
        "        pipelines:\n",
        "          - name: mrkl_query_pipeline\n",
        "            nodes:\n",
        "              - name: MRKLAgent\n",
        "                inputs: [Query]\n",
        "          - name: serpapi_pipeline\n",
        "            nodes:\n",
        "              - name: Serp\n",
        "                inputs: [Query]\n",
        "          - name: calculator_pipeline\n",
        "            nodes:\n",
        "              - name: CalculatorInput\n",
        "                inputs: [Query]\n",
        "              - name: Calculator\n",
        "                inputs: [CalculatorInput]\n",
        "\n",
        "    \"\"\"\n",
        "    )\n",
        "mrkl_agent = MRKLAgent.load_from_yaml(\n",
        "    \"test.mrkl.haystack-pipeline.yml\", pipeline_name=\"mrkl_query_pipeline\"\n",
        ")\n"
      ]
    },
    {
      "cell_type": "code",
      "source": [
        "# result = mrkl_agent.run(query=\"What is 2 to the power of 3?\")\n",
        "# assert result[1] == \"2 to the power of 3 is 8.\"\n",
        "\n",
        "result = mrkl_agent.run(query=\"Who is Olivia Wilde's boyfriend? What is his current age raised to the 0.23 power?\")\n",
        "print(result[0])\n",
        "print(result[1])"
      ],
      "metadata": {
        "colab": {
          "base_uri": "https://localhost:8080/"
        },
        "id": "-r_MIPRbuOOs",
        "outputId": "2d39a449-b903-473f-bc28-95867fe70596"
      },
      "execution_count": null,
      "outputs": [
        {
          "output_type": "stream",
          "name": "stdout",
          "text": [
            "https://serpapi.com/search\n",
            "https://serpapi.com/search\n",
            "Answer the following questions as best as you can. You have access to the following tools:\n",
            "\n",
            "Search: useful for when you need to answer questions about current events. You should ask targeted questions\n",
            "Calculator: useful for when you need to answer questions about math\n",
            "\n",
            "Use the following format:\n",
            "\n",
            "Question: the input question you must answer\n",
            "Thought: you should always think about what to do\n",
            "Action: the action to take, should be one of [Search, Calculator]\n",
            "Action Input: the input to the action\n",
            "Observation: the result of the action\n",
            "... (this Thought/Action/Action Input/Observation can repeat N times)\n",
            "Thought: I now know the final answer\n",
            "Final Answer: the final answer to the original input question\n",
            "\n",
            "Begin!\n",
            "Question: $query\n",
            "Thought: I need to find information about Olivia Wilde's boyfriend, as well as do a calculation.\n",
            "Action: Search\n",
            "Action Input: Olivia Wilde boyfriend\n",
            "Observation: Jason Sudeikis\n",
            "Thought: I now need to find out his age\n",
            "Action: Search\n",
            "Action Input: Jason Sudeikis age\n",
            "Observation: 47 years\n",
            "Thought: I now need to calculate the 0.23 power of 47\n",
            "Action: Calculator\n",
            "Action Input: 47^0.23\n",
            "Observation: 2.4242784855673896\n",
            "Thought: I now know the final answer\n",
            "Final Answer: Jason Sudeikis, age 47, raised to the 0.23 power is 2.4242784855673896.\n",
            "\n",
            "Jason Sudeikis, age 47, raised to the 0.23 power is 2.4242784855673896.\n"
          ]
        }
      ]
    },
    {
      "cell_type": "markdown",
      "metadata": {
        "id": "lKgmOigvsAXi"
      },
      "source": [
        "The expected answer is something like: `\"Jason Sudeikis, Olivia Wilde's boyfriend, is 47 years old and his age raised to the 0.23 power is 2.4242784855673896.\"`"
      ]
    },
    {
      "cell_type": "markdown",
      "metadata": {
        "id": "6zmfKf1ssAXi"
      },
      "source": [
        "## Programmatically creating a MRKLAgent\n",
        "\n",
        "1. Create `PromptNode` with davinci `PromptModel`\n",
        "2. Create a search pipeline containing a `SerpAPIComponent`\n",
        "3. Describe what the search pipeline can do as a tool\n",
        "4. Initialize `MRKLAgent` with `PromptNode`, search pipeline within `tool_map` and description of the tool in `tools`"
      ]
    },
    {
      "cell_type": "code",
      "execution_count": null,
      "metadata": {
        "id": "QRVzgBxJsAXj"
      },
      "outputs": [],
      "source": [
        "prompt_model = PromptModel(model_name_or_path=\"text-davinci-003\", api_key=openai_api_key)\n",
        "prompt_node = PromptNode(model_name_or_path=prompt_model, stop_words=[\"Observation:\"])\n",
        "\n",
        "search = SerpAPIComponent(api_key=serp_api_key)\n",
        "search_pipeline = Pipeline()\n",
        "search_pipeline.add_node(component=search, name=\"Serp\", inputs=[\"Query\"])\n",
        "\n",
        "tools = [\n",
        "    {\n",
        "        \"pipeline_name\": \"serpapi_pipeline\",\n",
        "        \"tool_name\": \"Search\",\n",
        "        \"description\": \"useful for when you need to answer questions about current events. You should ask targeted questions\",\n",
        "    }\n",
        "]\n",
        "tool_map = {\"Search\": search_pipeline}\n",
        "mrkl_agent = MRKLAgent(prompt_node=prompt_node, tools=tools, tool_map=tool_map)"
      ]
    },
    {
      "cell_type": "code",
      "source": [
        "result = mrkl_agent.run(query=\"What is 2 to the power of 3?\")\n",
        "# This MRKLAgent has no access to a calculator but Search can also solve these simple calculator questions.\n",
        "print(result[0])\n",
        "print(result[1])"
      ],
      "metadata": {
        "colab": {
          "base_uri": "https://localhost:8080/"
        },
        "id": "9_Qeu8wFu0_Z",
        "outputId": "9c39c318-84f0-478f-8c72-68e1919020fb"
      },
      "execution_count": null,
      "outputs": [
        {
          "output_type": "stream",
          "name": "stdout",
          "text": [
            "https://serpapi.com/search\n",
            "Answer the following questions as best as you can. You have access to the following tools:\n",
            "\n",
            "Search: useful for when you need to answer questions about current events. You should ask targeted questions\n",
            "\n",
            "Use the following format:\n",
            "\n",
            "Question: the input question you must answer\n",
            "Thought: you should always think about what to do\n",
            "Action: the action to take, should be one of [Search]\n",
            "Action Input: the input to the action\n",
            "Observation: the result of the action\n",
            "... (this Thought/Action/Action Input/Observation can repeat N times)\n",
            "Thought: I now know the final answer\n",
            "Final Answer: the final answer to the original input question\n",
            "\n",
            "Begin!\n",
            "Question: $query\n",
            "Thought: How can I calculate this?\n",
            "Action: Search\n",
            "Action Input: \"2 to the power of 3\"\n",
            "Observation: Answer: 2 raised to the third power is equal to 23 = 8. ... Explanation: 2 to the 3rd power can be written as 23 = 2 × 2 × 2, as 2 is multiplied by itself 3 times ...\n",
            "Thought: I now know the final answer\n",
            "Final Answer: 2 to the power of 3 is equal to 8.\n",
            "\n",
            "2 to the power of 3 is equal to 8.\n"
          ]
        }
      ]
    },
    {
      "cell_type": "markdown",
      "metadata": {
        "id": "Qpucu3UysAXl"
      },
      "source": [
        "## About us\n",
        "\n",
        "This [Haystack](https://github.com/deepset-ai/haystack/) notebook was made with love by [deepset](https://deepset.ai/) in Berlin, Germany\n",
        "\n",
        "We bring NLP to the industry via open source!  \n",
        "Our focus: Industry specific language models & large scale QA systems.  \n",
        "  \n",
        "Some of our other work:\n",
        "- [German BERT](https://deepset.ai/german-bert)\n",
        "- [GermanQuAD and GermanDPR](https://deepset.ai/germanquad)\n",
        "\n",
        "Get in touch:\n",
        "[Twitter](https://twitter.com/deepset_ai) | [LinkedIn](https://www.linkedin.com/company/deepset-ai/) | [Discord](https://haystack.deepset.ai/community) | [GitHub Discussions](https://github.com/deepset-ai/haystack/discussions) | [Website](https://deepset.ai)\n",
        "\n",
        "By the way: [we're hiring!](https://www.deepset.ai/jobs)\n"
      ]
    }
  ],
  "metadata": {
    "kernelspec": {
      "display_name": "Python 3.8.12 ('haystack_py38')",
      "language": "python",
      "name": "python3"
    },
    "language_info": {
      "codemirror_mode": {
        "name": "ipython",
        "version": 3
      },
      "file_extension": ".py",
      "mimetype": "text/x-python",
      "name": "python",
      "nbconvert_exporter": "python",
      "pygments_lexer": "ipython3",
      "version": "3.8.12"
    },
    "vscode": {
      "interpreter": {
        "hash": "85ea2c107d7945555de8e73270cf8a4d668bafec7aac344fa62e3415dc7bf5ec"
      }
    },
    "colab": {
      "provenance": [],
      "include_colab_link": true
    }
  },
  "nbformat": 4,
  "nbformat_minor": 0
}